{
 "cells": [
  {
   "cell_type": "code",
   "execution_count": 1,
   "metadata": {
    "collapsed": true,
    "pycharm": {
     "name": "#%%\n"
    }
   },
   "outputs": [],
   "source": [
    "import os\n",
    "import pandas as pd\n",
    "import numpy as np\n",
    "import xgboost as xgb\n",
    "from matplotlib import pyplot\n",
    "from sklearn.model_selection import StratifiedKFold\n",
    "from sklearn.metrics import accuracy_score"
   ]
  },
  {
   "cell_type": "code",
   "execution_count": 2,
   "outputs": [],
   "source": [
    "# SET PATH\n",
    "path = f\"{os.getcwd()}/dataset/train.parquet\"\n",
    "# LOAD PARQUET DATASET WITH FEATURE ENGINEERING\n",
    "df = pd.read_parquet(path=path)"
   ],
   "metadata": {
    "collapsed": false,
    "pycharm": {
     "name": "#%%\n"
    }
   }
  },
  {
   "cell_type": "code",
   "execution_count": 3,
   "outputs": [
    {
     "name": "stdout",
     "output_type": "stream",
     "text": [
      "shape of data: (458913, 188)\n"
     ]
    }
   ],
   "source": [
    "# REDUCE DTYPE FOR CUSTOMER AND DATE\n",
    "df['customer_ID']= df['customer_ID'].str[-16:].apply(int, base=16)\n",
    "\n",
    "# S_2 is not relevant so lets drop it\n",
    "df.drop(['S_2'],axis=1,inplace=True)\n",
    "\n",
    "# df = df.fillna(-127)\n",
    "\n",
    "# There are multiple transactions. Let's take only the latest transaction from each customer.\n",
    "df= df.groupby('customer_ID').tail(1)\n",
    "df= df.set_index(['customer_ID'])\n",
    "\n",
    "print('shape of data:', df.shape)"
   ],
   "metadata": {
    "collapsed": false,
    "pycharm": {
     "name": "#%%\n"
    }
   }
  },
  {
   "cell_type": "code",
   "execution_count": 4,
   "outputs": [
    {
     "data": {
      "text/plain": "                           P_2  D_39       B_1       B_2       R_1       S_3  \\\ncustomer_ID                                                                    \n13914591055249847850  0.934745     0  0.009382  1.007647  0.006104  0.135021   \n11750091188498716901  0.880519     6  0.034684  1.004028  0.006911  0.165509   \n7128959966677571777   0.880875     0  0.004284  0.812649  0.006450       NaN   \n6537921148391624412   0.621776     0  0.012564  1.006183  0.007829  0.287766   \n2065103583825424365   0.871900     0  0.007679  0.815746  0.001247       NaN   \n\n                      D_41       B_3  D_42      D_43  ...  D_136  D_137  \\\ncustomer_ID                                           ...                 \n13914591055249847850   0.0  0.007174   NaN       NaN  ...     -1     -1   \n11750091188498716901   0.0  0.005068   NaN  0.060646  ...     -1     -1   \n7128959966677571777    0.0  0.007196   NaN       NaN  ...     -1     -1   \n6537921148391624412    0.0  0.009937   NaN  0.046104  ...     -1     -1   \n2065103583825424365    0.0  0.005528   NaN  0.044671  ...     -1     -1   \n\n                      D_138  D_139  D_140  D_141  D_142  D_143     D_144  \\\ncustomer_ID                                                                \n13914591055249847850     -1      0      0    0.0    NaN      0  0.002970   \n11750091188498716901     -1      0      0    0.0    NaN      0  0.003169   \n7128959966677571777      -1      0      0    0.0    NaN      0  0.000834   \n6537921148391624412      -1      0      0    0.0    NaN      0  0.005560   \n2065103583825424365      -1      0      0    0.0    NaN      0  0.006944   \n\n                      D_145  \ncustomer_ID                  \n13914591055249847850      0  \n11750091188498716901      0  \n7128959966677571777       0  \n6537921148391624412       0  \n2065103583825424365       0  \n\n[5 rows x 188 columns]",
      "text/html": "<div>\n<style scoped>\n    .dataframe tbody tr th:only-of-type {\n        vertical-align: middle;\n    }\n\n    .dataframe tbody tr th {\n        vertical-align: top;\n    }\n\n    .dataframe thead th {\n        text-align: right;\n    }\n</style>\n<table border=\"1\" class=\"dataframe\">\n  <thead>\n    <tr style=\"text-align: right;\">\n      <th></th>\n      <th>P_2</th>\n      <th>D_39</th>\n      <th>B_1</th>\n      <th>B_2</th>\n      <th>R_1</th>\n      <th>S_3</th>\n      <th>D_41</th>\n      <th>B_3</th>\n      <th>D_42</th>\n      <th>D_43</th>\n      <th>...</th>\n      <th>D_136</th>\n      <th>D_137</th>\n      <th>D_138</th>\n      <th>D_139</th>\n      <th>D_140</th>\n      <th>D_141</th>\n      <th>D_142</th>\n      <th>D_143</th>\n      <th>D_144</th>\n      <th>D_145</th>\n    </tr>\n    <tr>\n      <th>customer_ID</th>\n      <th></th>\n      <th></th>\n      <th></th>\n      <th></th>\n      <th></th>\n      <th></th>\n      <th></th>\n      <th></th>\n      <th></th>\n      <th></th>\n      <th></th>\n      <th></th>\n      <th></th>\n      <th></th>\n      <th></th>\n      <th></th>\n      <th></th>\n      <th></th>\n      <th></th>\n      <th></th>\n      <th></th>\n    </tr>\n  </thead>\n  <tbody>\n    <tr>\n      <th>13914591055249847850</th>\n      <td>0.934745</td>\n      <td>0</td>\n      <td>0.009382</td>\n      <td>1.007647</td>\n      <td>0.006104</td>\n      <td>0.135021</td>\n      <td>0.0</td>\n      <td>0.007174</td>\n      <td>NaN</td>\n      <td>NaN</td>\n      <td>...</td>\n      <td>-1</td>\n      <td>-1</td>\n      <td>-1</td>\n      <td>0</td>\n      <td>0</td>\n      <td>0.0</td>\n      <td>NaN</td>\n      <td>0</td>\n      <td>0.002970</td>\n      <td>0</td>\n    </tr>\n    <tr>\n      <th>11750091188498716901</th>\n      <td>0.880519</td>\n      <td>6</td>\n      <td>0.034684</td>\n      <td>1.004028</td>\n      <td>0.006911</td>\n      <td>0.165509</td>\n      <td>0.0</td>\n      <td>0.005068</td>\n      <td>NaN</td>\n      <td>0.060646</td>\n      <td>...</td>\n      <td>-1</td>\n      <td>-1</td>\n      <td>-1</td>\n      <td>0</td>\n      <td>0</td>\n      <td>0.0</td>\n      <td>NaN</td>\n      <td>0</td>\n      <td>0.003169</td>\n      <td>0</td>\n    </tr>\n    <tr>\n      <th>7128959966677571777</th>\n      <td>0.880875</td>\n      <td>0</td>\n      <td>0.004284</td>\n      <td>0.812649</td>\n      <td>0.006450</td>\n      <td>NaN</td>\n      <td>0.0</td>\n      <td>0.007196</td>\n      <td>NaN</td>\n      <td>NaN</td>\n      <td>...</td>\n      <td>-1</td>\n      <td>-1</td>\n      <td>-1</td>\n      <td>0</td>\n      <td>0</td>\n      <td>0.0</td>\n      <td>NaN</td>\n      <td>0</td>\n      <td>0.000834</td>\n      <td>0</td>\n    </tr>\n    <tr>\n      <th>6537921148391624412</th>\n      <td>0.621776</td>\n      <td>0</td>\n      <td>0.012564</td>\n      <td>1.006183</td>\n      <td>0.007829</td>\n      <td>0.287766</td>\n      <td>0.0</td>\n      <td>0.009937</td>\n      <td>NaN</td>\n      <td>0.046104</td>\n      <td>...</td>\n      <td>-1</td>\n      <td>-1</td>\n      <td>-1</td>\n      <td>0</td>\n      <td>0</td>\n      <td>0.0</td>\n      <td>NaN</td>\n      <td>0</td>\n      <td>0.005560</td>\n      <td>0</td>\n    </tr>\n    <tr>\n      <th>2065103583825424365</th>\n      <td>0.871900</td>\n      <td>0</td>\n      <td>0.007679</td>\n      <td>0.815746</td>\n      <td>0.001247</td>\n      <td>NaN</td>\n      <td>0.0</td>\n      <td>0.005528</td>\n      <td>NaN</td>\n      <td>0.044671</td>\n      <td>...</td>\n      <td>-1</td>\n      <td>-1</td>\n      <td>-1</td>\n      <td>0</td>\n      <td>0</td>\n      <td>0.0</td>\n      <td>NaN</td>\n      <td>0</td>\n      <td>0.006944</td>\n      <td>0</td>\n    </tr>\n  </tbody>\n</table>\n<p>5 rows × 188 columns</p>\n</div>"
     },
     "execution_count": 4,
     "metadata": {},
     "output_type": "execute_result"
    }
   ],
   "source": [
    "df.head()"
   ],
   "metadata": {
    "collapsed": false,
    "pycharm": {
     "name": "#%%\n"
    }
   }
  },
  {
   "cell_type": "code",
   "execution_count": 5,
   "outputs": [
    {
     "name": "stdout",
     "output_type": "stream",
     "text": [
      "There are 188 features!\n",
      "Train data Shape (458913, 190)\n"
     ]
    }
   ],
   "source": [
    "# Read and process Train Labels\n",
    "targets = pd.read_csv(f\"{os.getcwd()}/dataset/train_labels.csv\")\n",
    "targets['customer_ID'] = targets['customer_ID'].str[-16:].apply(int, base=16)\n",
    "targets = targets.set_index('customer_ID')\n",
    "train_data = df.merge(targets, left_index=True, right_index=True, how='left')\n",
    "train_data.target = train_data.target.astype('int8')\n",
    "del targets, df\n",
    "# NEEDED TO MAKE CV DETERMINISTIC (Pandas merge above randomly shuffles rows)\n",
    "train_data = train_data.sort_index().reset_index()\n",
    "\n",
    "# FEATURES\n",
    "FEATURES = train_data.columns[1:-1]\n",
    "print(f'There are {len(FEATURES)} features!')\n",
    "print(\"Train data Shape\", train_data.shape)"
   ],
   "metadata": {
    "collapsed": false,
    "pycharm": {
     "name": "#%%\n"
    }
   }
  },
  {
   "cell_type": "code",
   "execution_count": 6,
   "outputs": [],
   "source": [
    "x_train = train_data.drop(['target','customer_ID'],axis=1).values\n",
    "y_train = train_data['target'].values"
   ],
   "metadata": {
    "collapsed": false,
    "pycharm": {
     "name": "#%%\n"
    }
   }
  },
  {
   "cell_type": "code",
   "execution_count": 7,
   "outputs": [],
   "source": [
    "# INITIALIZED XGBOOST MODEL\n",
    "xgb_cal = xgb.XGBClassifier()"
   ],
   "metadata": {
    "collapsed": false,
    "pycharm": {
     "name": "#%%\n"
    }
   }
  },
  {
   "cell_type": "code",
   "execution_count": 8,
   "outputs": [
    {
     "name": "stdout",
     "output_type": "stream",
     "text": [
      "[Fold 1/5]\n",
      "[Fold 2/5]\n",
      "[Fold 3/5]\n",
      "[Fold 4/5]\n",
      "[Fold 5/5]\n"
     ]
    }
   ],
   "source": [
    "# Calculating CV Score\n",
    "kfold = 5\n",
    "skf = StratifiedKFold(n_splits=kfold, shuffle=True, random_state=0)\n",
    "lst_accu_stratified_test = []\n",
    "lst_accu_stratified_train = []\n",
    "for i, (train_index, test_index) in enumerate(skf.split(x_train, y_train), start=1):\n",
    "    print('[Fold %d/%d]' % (i, kfold))\n",
    "    x_train_split, x_test_split  = x_train[train_index], x_train[test_index]\n",
    "    y_train_split, y_test_split  = y_train[train_index], y_train[test_index]\n",
    "    xgb_cal.fit(x_train_split, y_train_split)\n",
    "    y_predict_test = xgb_cal.predict(x_test_split)\n",
    "    lst_accu_stratified_test.append(accuracy_score(y_test_split, y_predict_test))\n",
    "    y_predict_train = xgb_cal.predict(x_train_split)\n",
    "    lst_accu_stratified_train.append(accuracy_score(y_train_split,y_predict_train))"
   ],
   "metadata": {
    "collapsed": false,
    "pycharm": {
     "name": "#%%\n"
    }
   }
  },
  {
   "cell_type": "code",
   "execution_count": 9,
   "outputs": [
    {
     "name": "stdout",
     "output_type": "stream",
     "text": [
      "[0.8992623906387893, 0.8990553806260418, 0.8981292832005927, 0.9004162036129089, 0.8994465145671264]\n",
      "[0.9192220739247678, 0.9185247732410863, 0.9192247977555634, 0.917443637284784, 0.9186775292742917]\n",
      "Average Accuracy Score on test set: 0.8992619545290917\n",
      "Average Accuracy Score on train set: 0.9186185622960987\n"
     ]
    }
   ],
   "source": [
    "print(lst_accu_stratified_test)\n",
    "print(lst_accu_stratified_train)\n",
    "\n",
    "# Calculating Accuracy\n",
    "print(\"Average Accuracy Score on test set:\", np.mean(lst_accu_stratified_test))\n",
    "print(\"Average Accuracy Score on train set:\", np.mean(lst_accu_stratified_train))"
   ],
   "metadata": {
    "collapsed": false,
    "pycharm": {
     "name": "#%%\n"
    }
   }
  },
  {
   "cell_type": "code",
   "execution_count": 10,
   "outputs": [
    {
     "data": {
      "text/plain": "<Figure size 432x288 with 1 Axes>",
      "image/png": "[encoded data removed]"
     },
     "metadata": {
      "needs_background": "light"
     },
     "output_type": "display_data"
    }
   ],
   "source": [
    "# plot of train and test scores\n",
    "values = [i for i in range(kfold)]\n",
    "pyplot.plot(values, lst_accu_stratified_train, '-o', label='Train')\n",
    "pyplot.plot(values, lst_accu_stratified_test, '-o', label='Test')\n",
    "pyplot.legend()\n",
    "pyplot.show()"
   ],
   "metadata": {
    "collapsed": false,
    "pycharm": {
     "name": "#%%\n"
    }
   }
  },
  {
   "cell_type": "code",
   "execution_count": null,
   "outputs": [],
   "source": [],
   "metadata": {
    "collapsed": false,
    "pycharm": {
     "name": "#%%\n"
    }
   }
  }
 ],
 "metadata": {
  "kernelspec": {
   "display_name": "Python 3",
   "language": "python",
   "name": "python3"
  },
  "language_info": {
   "codemirror_mode": {
    "name": "ipython",
    "version": 2
   },
   "file_extension": ".py",
   "mimetype": "text/x-python",
   "name": "python",
   "nbconvert_exporter": "python",
   "pygments_lexer": "ipython2",
   "version": "2.7.6"
  }
 },
 "nbformat": 4,
 "nbformat_minor": 0
}