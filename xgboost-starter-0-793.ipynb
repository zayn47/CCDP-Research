{
 "cells": [
  {
   "cell_type": "markdown",
   "source": [
    "# XGBoost Starter - LB 0.793\n",
    "In this notebook we build and train an XGBoost model using @raddar Kaggle dataset from [here][1] with discussion [here][2]. Then we engineer features suggested by @huseyincot in his notebooks [here][3] and [here][4]. This XGB model achieves CV 0.792 LB 0.793! When training with XGB, we use a special XGB dataloader called `DeviceQuantileDMatrix` which uses a small GPU memory footprint. This allows us to engineer more additional columns and train with more rows of data. Our feature engineering is performed using [RAPIDS][5] on the GPU to create new features quickly.\n",
    "\n",
    "[1]: https://www.kaggle.com/datasets/raddar/amex-data-integer-dtypes-parquet-format\n",
    "[2]: https://www.kaggle.com/competitions/amex-default-prediction/discussion/328514\n",
    "[3]: https://www.kaggle.com/code/huseyincot/amex-catboost-0-793\n",
    "[4]: https://www.kaggle.com/code/huseyincot/amex-agg-data-how-it-created\n",
    "[5]: https://rapids.ai/"
   ],
   "metadata": {
    "collapsed": false,
    "pycharm": {
     "name": "#%% md\n"
    }
   }
  },
  {
   "cell_type": "markdown",
   "id": "e9d39b5c",
   "metadata": {
    "papermill": {
     "duration": 0.006826,
     "end_time": "2022-06-06T11:21:26.534912",
     "exception": false,
     "start_time": "2022-06-06T11:21:26.528086",
     "status": "completed"
    },
    "tags": [],
    "pycharm": {
     "name": "#%% md\n"
    }
   },
   "source": [
    "# Load Libraries"
   ]
  },
  {
   "cell_type": "code",
   "execution_count": 2,
   "id": "b5fbefa6",
   "metadata": {
    "execution": {
     "iopub.execute_input": "2022-06-06T11:21:26.550251Z",
     "iopub.status.busy": "2022-06-06T11:21:26.549437Z",
     "iopub.status.idle": "2022-06-06T11:21:30.110131Z",
     "shell.execute_reply": "2022-06-06T11:21:30.108260Z"
    },
    "papermill": {
     "duration": 3.572308,
     "end_time": "2022-06-06T11:21:30.113738",
     "exception": false,
     "start_time": "2022-06-06T11:21:26.541430",
     "status": "completed"
    },
    "tags": [],
    "pycharm": {
     "name": "#%%\n"
    }
   },
   "outputs": [],
   "source": [
    "# LOAD LIBRARIES\n",
    "import pandas as pd, numpy as np # CPU libraries\n",
    "# import cupy, cudf # GPU libraries\n",
    "import matplotlib.pyplot as plt, gc, os\n",
    "\n",
    "# print('RAPIDS version',cudf.__version__)"
   ]
  },
  {
   "cell_type": "code",
   "execution_count": 2,
   "id": "086c14d5",
   "metadata": {
    "execution": {
     "iopub.execute_input": "2022-06-06T11:21:30.136545Z",
     "iopub.status.busy": "2022-06-06T11:21:30.136204Z",
     "iopub.status.idle": "2022-06-06T11:21:30.140977Z",
     "shell.execute_reply": "2022-06-06T11:21:30.140189Z"
    },
    "papermill": {
     "duration": 0.019507,
     "end_time": "2022-06-06T11:21:30.143229",
     "exception": false,
     "start_time": "2022-06-06T11:21:30.123722",
     "status": "completed"
    },
    "tags": [],
    "pycharm": {
     "name": "#%%\n"
    }
   },
   "outputs": [],
   "source": [
    "# VERSION NAME FOR SAVED MODEL FILES\n",
    "VER = 1\n",
    "\n",
    "# TRAIN RANDOM SEED\n",
    "SEED = 42\n",
    "\n",
    "# FILL NAN VALUE\n",
    "NAN_VALUE = -127 # will fit in int8\n",
    "\n",
    "# FOLDS PER MODEL\n",
    "FOLDS = 5"
   ]
  },
  {
   "cell_type": "markdown",
   "id": "1e12b078",
   "metadata": {
    "papermill": {
     "duration": 0.011286,
     "end_time": "2022-06-06T11:21:30.166082",
     "exception": false,
     "start_time": "2022-06-06T11:21:30.154796",
     "status": "completed"
    },
    "tags": [],
    "pycharm": {
     "name": "#%% md\n"
    }
   },
   "source": [
    "# Process and Feature Engineer Train Data\n",
    "We will load @raddar Kaggle dataset from [here][1] with discussion [here][2]. Then we will engineer features suggested by @huseyincot in his notebooks [here][3] and [here][4]. We will use [RAPIDS][5] and the GPU to create new features quickly.\n",
    "\n",
    "[1]: https://www.kaggle.com/datasets/raddar/amex-data-integer-dtypes-parquet-format\n",
    "[2]: https://www.kaggle.com/competitions/amex-default-prediction/discussion/328514\n",
    "[3]: https://www.kaggle.com/code/huseyincot/amex-catboost-0-793\n",
    "[4]: https://www.kaggle.com/code/huseyincot/amex-agg-data-how-it-created\n",
    "[5]: https://rapids.ai/"
   ]
  },
  {
   "cell_type": "code",
   "execution_count": 3,
   "id": "ed0c708b",
   "metadata": {
    "execution": {
     "iopub.execute_input": "2022-06-06T11:21:30.189355Z",
     "iopub.status.busy": "2022-06-06T11:21:30.189088Z",
     "iopub.status.idle": "2022-06-06T11:21:54.488705Z",
     "shell.execute_reply": "2022-06-06T11:21:54.487315Z"
    },
    "papermill": {
     "duration": 24.314197,
     "end_time": "2022-06-06T11:21:54.491417",
     "exception": false,
     "start_time": "2022-06-06T11:21:30.177220",
     "status": "completed"
    },
    "tags": [],
    "pycharm": {
     "name": "#%%\n"
    }
   },
   "outputs": [
    {
     "name": "stdout",
     "output_type": "stream",
     "text": [
      "Reading train data...\n",
      "shape of data: (5531451, 190)\n"
     ]
    }
   ],
   "source": [
    "def read_file(path = '', usecols = None):\n",
    "    # LOAD DATAFRAME\n",
    "    if usecols is not None: df = cudf.read_parquet(path, columns=usecols)\n",
    "    else: df = cudf.read_parquet(path)\n",
    "    # REDUCE DTYPE FOR CUSTOMER AND DATE\n",
    "    df['customer_ID'] = df['customer_ID'].str[-16:].str.hex_to_int().astype('int64')\n",
    "    df.S_2 = cudf.to_datetime( df.S_2 )\n",
    "    # SORT BY CUSTOMER AND DATE (so agg('last') works correctly)\n",
    "    #df = df.sort_values(['customer_ID','S_2'])\n",
    "    #df = df.reset_index(drop=True)\n",
    "    # FILL NAN\n",
    "    df = df.fillna(NAN_VALUE) \n",
    "    print('shape of data:', df.shape)\n",
    "    \n",
    "    return df\n",
    "\n",
    "print('Reading train data...')\n",
    "TRAIN_PATH = '../input/amex-data-integer-dtypes-parquet-format/train.parquet'\n",
    "train = read_file(path = TRAIN_PATH)"
   ]
  },
  {
   "cell_type": "code",
   "execution_count": 4,
   "id": "7496103e",
   "metadata": {
    "execution": {
     "iopub.execute_input": "2022-06-06T11:21:54.506427Z",
     "iopub.status.busy": "2022-06-06T11:21:54.506128Z",
     "iopub.status.idle": "2022-06-06T11:21:54.741894Z",
     "shell.execute_reply": "2022-06-06T11:21:54.741059Z"
    },
    "papermill": {
     "duration": 0.245681,
     "end_time": "2022-06-06T11:21:54.744230",
     "exception": false,
     "start_time": "2022-06-06T11:21:54.498549",
     "status": "completed"
    },
    "tags": [],
    "pycharm": {
     "name": "#%%\n"
    }
   },
   "outputs": [
    {
     "data": {
      "text/html": [
       "<div>\n",
       "<style scoped>\n",
       "    .dataframe tbody tr th:only-of-type {\n",
       "        vertical-align: middle;\n",
       "    }\n",
       "\n",
       "    .dataframe tbody tr th {\n",
       "        vertical-align: top;\n",
       "    }\n",
       "\n",
       "    .dataframe thead th {\n",
       "        text-align: right;\n",
       "    }\n",
       "</style>\n",
       "<table border=\"1\" class=\"dataframe\">\n",
       "  <thead>\n",
       "    <tr style=\"text-align: right;\">\n",
       "      <th></th>\n",
       "      <th>customer_ID</th>\n",
       "      <th>S_2</th>\n",
       "      <th>P_2</th>\n",
       "      <th>D_39</th>\n",
       "      <th>B_1</th>\n",
       "      <th>B_2</th>\n",
       "      <th>R_1</th>\n",
       "      <th>S_3</th>\n",
       "      <th>D_41</th>\n",
       "      <th>B_3</th>\n",
       "      <th>...</th>\n",
       "      <th>D_136</th>\n",
       "      <th>D_137</th>\n",
       "      <th>D_138</th>\n",
       "      <th>D_139</th>\n",
       "      <th>D_140</th>\n",
       "      <th>D_141</th>\n",
       "      <th>D_142</th>\n",
       "      <th>D_143</th>\n",
       "      <th>D_144</th>\n",
       "      <th>D_145</th>\n",
       "    </tr>\n",
       "  </thead>\n",
       "  <tbody>\n",
       "    <tr>\n",
       "      <th>0</th>\n",
       "      <td>-4532153018459703766</td>\n",
       "      <td>2017-03-09</td>\n",
       "      <td>0.938469</td>\n",
       "      <td>0</td>\n",
       "      <td>0.008724</td>\n",
       "      <td>1.006838</td>\n",
       "      <td>0.009228</td>\n",
       "      <td>0.124035</td>\n",
       "      <td>0.0</td>\n",
       "      <td>0.004709</td>\n",
       "      <td>...</td>\n",
       "      <td>-1</td>\n",
       "      <td>-1</td>\n",
       "      <td>-1</td>\n",
       "      <td>0</td>\n",
       "      <td>0</td>\n",
       "      <td>0.0</td>\n",
       "      <td>-127.0</td>\n",
       "      <td>0</td>\n",
       "      <td>0.000610</td>\n",
       "      <td>0</td>\n",
       "    </tr>\n",
       "    <tr>\n",
       "      <th>1</th>\n",
       "      <td>-4532153018459703766</td>\n",
       "      <td>2017-04-07</td>\n",
       "      <td>0.936665</td>\n",
       "      <td>0</td>\n",
       "      <td>0.004923</td>\n",
       "      <td>1.000653</td>\n",
       "      <td>0.006151</td>\n",
       "      <td>0.126750</td>\n",
       "      <td>0.0</td>\n",
       "      <td>0.002714</td>\n",
       "      <td>...</td>\n",
       "      <td>-1</td>\n",
       "      <td>-1</td>\n",
       "      <td>-1</td>\n",
       "      <td>0</td>\n",
       "      <td>0</td>\n",
       "      <td>0.0</td>\n",
       "      <td>-127.0</td>\n",
       "      <td>0</td>\n",
       "      <td>0.005492</td>\n",
       "      <td>0</td>\n",
       "    </tr>\n",
       "    <tr>\n",
       "      <th>2</th>\n",
       "      <td>-4532153018459703766</td>\n",
       "      <td>2017-05-28</td>\n",
       "      <td>0.954180</td>\n",
       "      <td>3</td>\n",
       "      <td>0.021655</td>\n",
       "      <td>1.009672</td>\n",
       "      <td>0.006815</td>\n",
       "      <td>0.123977</td>\n",
       "      <td>0.0</td>\n",
       "      <td>0.009423</td>\n",
       "      <td>...</td>\n",
       "      <td>-1</td>\n",
       "      <td>-1</td>\n",
       "      <td>-1</td>\n",
       "      <td>0</td>\n",
       "      <td>0</td>\n",
       "      <td>0.0</td>\n",
       "      <td>-127.0</td>\n",
       "      <td>0</td>\n",
       "      <td>0.006986</td>\n",
       "      <td>0</td>\n",
       "    </tr>\n",
       "    <tr>\n",
       "      <th>3</th>\n",
       "      <td>-4532153018459703766</td>\n",
       "      <td>2017-06-13</td>\n",
       "      <td>0.960384</td>\n",
       "      <td>0</td>\n",
       "      <td>0.013683</td>\n",
       "      <td>1.002700</td>\n",
       "      <td>0.001373</td>\n",
       "      <td>0.117169</td>\n",
       "      <td>0.0</td>\n",
       "      <td>0.005531</td>\n",
       "      <td>...</td>\n",
       "      <td>-1</td>\n",
       "      <td>-1</td>\n",
       "      <td>-1</td>\n",
       "      <td>0</td>\n",
       "      <td>0</td>\n",
       "      <td>0.0</td>\n",
       "      <td>-127.0</td>\n",
       "      <td>0</td>\n",
       "      <td>0.006527</td>\n",
       "      <td>0</td>\n",
       "    </tr>\n",
       "    <tr>\n",
       "      <th>4</th>\n",
       "      <td>-4532153018459703766</td>\n",
       "      <td>2017-07-16</td>\n",
       "      <td>0.947248</td>\n",
       "      <td>0</td>\n",
       "      <td>0.015193</td>\n",
       "      <td>1.000727</td>\n",
       "      <td>0.007605</td>\n",
       "      <td>0.117325</td>\n",
       "      <td>0.0</td>\n",
       "      <td>0.009312</td>\n",
       "      <td>...</td>\n",
       "      <td>-1</td>\n",
       "      <td>-1</td>\n",
       "      <td>-1</td>\n",
       "      <td>0</td>\n",
       "      <td>0</td>\n",
       "      <td>0.0</td>\n",
       "      <td>-127.0</td>\n",
       "      <td>0</td>\n",
       "      <td>0.008126</td>\n",
       "      <td>0</td>\n",
       "    </tr>\n",
       "  </tbody>\n",
       "</table>\n",
       "<p>5 rows × 190 columns</p>\n",
       "</div>"
      ],
      "text/plain": [
       "           customer_ID        S_2       P_2  D_39       B_1       B_2  \\\n",
       "0 -4532153018459703766 2017-03-09  0.938469     0  0.008724  1.006838   \n",
       "1 -4532153018459703766 2017-04-07  0.936665     0  0.004923  1.000653   \n",
       "2 -4532153018459703766 2017-05-28  0.954180     3  0.021655  1.009672   \n",
       "3 -4532153018459703766 2017-06-13  0.960384     0  0.013683  1.002700   \n",
       "4 -4532153018459703766 2017-07-16  0.947248     0  0.015193  1.000727   \n",
       "\n",
       "        R_1       S_3  D_41       B_3  ...  D_136  D_137  D_138  D_139  D_140  \\\n",
       "0  0.009228  0.124035   0.0  0.004709  ...     -1     -1     -1      0      0   \n",
       "1  0.006151  0.126750   0.0  0.002714  ...     -1     -1     -1      0      0   \n",
       "2  0.006815  0.123977   0.0  0.009423  ...     -1     -1     -1      0      0   \n",
       "3  0.001373  0.117169   0.0  0.005531  ...     -1     -1     -1      0      0   \n",
       "4  0.007605  0.117325   0.0  0.009312  ...     -1     -1     -1      0      0   \n",
       "\n",
       "   D_141  D_142  D_143     D_144  D_145  \n",
       "0    0.0 -127.0      0  0.000610      0  \n",
       "1    0.0 -127.0      0  0.005492      0  \n",
       "2    0.0 -127.0      0  0.006986      0  \n",
       "3    0.0 -127.0      0  0.006527      0  \n",
       "4    0.0 -127.0      0  0.008126      0  \n",
       "\n",
       "[5 rows x 190 columns]"
      ]
     },
     "execution_count": 4,
     "metadata": {},
     "output_type": "execute_result"
    }
   ],
   "source": [
    "train.head()"
   ]
  },
  {
   "cell_type": "code",
   "execution_count": 5,
   "id": "8c94f06b",
   "metadata": {
    "execution": {
     "iopub.execute_input": "2022-06-06T11:21:54.759924Z",
     "iopub.status.busy": "2022-06-06T11:21:54.759115Z",
     "iopub.status.idle": "2022-06-06T11:21:55.918636Z",
     "shell.execute_reply": "2022-06-06T11:21:55.917029Z"
    },
    "papermill": {
     "duration": 1.169204,
     "end_time": "2022-06-06T11:21:55.920635",
     "exception": false,
     "start_time": "2022-06-06T11:21:54.751431",
     "status": "completed"
    },
    "tags": [],
    "pycharm": {
     "name": "#%%\n"
    }
   },
   "outputs": [
    {
     "name": "stdout",
     "output_type": "stream",
     "text": [
      "shape after engineering (458913, 918)\n"
     ]
    }
   ],
   "source": [
    "def process_and_feature_engineer(df):\n",
    "    # FEATURE ENGINEERING FROM \n",
    "    # https://www.kaggle.com/code/huseyincot/amex-agg-data-how-it-created\n",
    "    all_cols = [c for c in list(df.columns) if c not in ['customer_ID','S_2']]\n",
    "    cat_features = [\"B_30\",\"B_38\",\"D_114\",\"D_116\",\"D_117\",\"D_120\",\"D_126\",\"D_63\",\"D_64\",\"D_66\",\"D_68\"]\n",
    "    num_features = [col for col in all_cols if col not in cat_features]\n",
    "\n",
    "    test_num_agg = df.groupby(\"customer_ID\")[num_features].agg(['mean', 'std', 'min', 'max', 'last'])\n",
    "    test_num_agg.columns = ['_'.join(x) for x in test_num_agg.columns]\n",
    "\n",
    "    test_cat_agg = df.groupby(\"customer_ID\")[cat_features].agg(['count', 'last', 'nunique'])\n",
    "    test_cat_agg.columns = ['_'.join(x) for x in test_cat_agg.columns]\n",
    "\n",
    "    df = cudf.concat([test_num_agg, test_cat_agg], axis=1)\n",
    "    del test_num_agg, test_cat_agg\n",
    "    print('shape after engineering', df.shape )\n",
    "    \n",
    "    return df\n",
    "\n",
    "train = process_and_feature_engineer(train)"
   ]
  },
  {
   "cell_type": "code",
   "execution_count": 6,
   "id": "2e23dfe2",
   "metadata": {
    "execution": {
     "iopub.execute_input": "2022-06-06T11:21:55.935924Z",
     "iopub.status.busy": "2022-06-06T11:21:55.935147Z",
     "iopub.status.idle": "2022-06-06T11:21:57.238502Z",
     "shell.execute_reply": "2022-06-06T11:21:57.237110Z"
    },
    "papermill": {
     "duration": 1.313204,
     "end_time": "2022-06-06T11:21:57.240862",
     "exception": false,
     "start_time": "2022-06-06T11:21:55.927658",
     "status": "completed"
    },
    "tags": [],
    "pycharm": {
     "name": "#%%\n"
    }
   },
   "outputs": [
    {
     "name": "stdout",
     "output_type": "stream",
     "text": [
      "There are 918 features!\n"
     ]
    }
   ],
   "source": [
    "# ADD TARGETS\n",
    "targets = cudf.read_csv('../input/amex-default-prediction/train_labels.csv')\n",
    "targets['customer_ID'] = targets['customer_ID'].str[-16:].str.hex_to_int().astype('int64')\n",
    "targets = targets.set_index('customer_ID')\n",
    "train = train.merge(targets, left_index=True, right_index=True, how='left')\n",
    "train.target = train.target.astype('int8')\n",
    "del targets\n",
    "\n",
    "# NEEDED TO MAKE CV DETERMINISTIC (cudf merge above randomly shuffles rows)\n",
    "train = train.sort_index().reset_index()\n",
    "\n",
    "# FEATURES\n",
    "FEATURES = train.columns[1:-1]\n",
    "print(f'There are {len(FEATURES)} features!')"
   ]
  },
  {
   "cell_type": "markdown",
   "id": "f8d81c5a",
   "metadata": {
    "papermill": {
     "duration": 0.007074,
     "end_time": "2022-06-06T11:21:57.255646",
     "exception": false,
     "start_time": "2022-06-06T11:21:57.248572",
     "status": "completed"
    },
    "tags": [],
    "pycharm": {
     "name": "#%% md\n"
    }
   },
   "source": [
    "# Train XGB\n",
    "We will train using `DeviceQuantileDMatrix`. This has a very small GPU memory footprint."
   ]
  },
  {
   "cell_type": "code",
   "execution_count": 7,
   "id": "6d22a0b6",
   "metadata": {
    "execution": {
     "iopub.execute_input": "2022-06-06T11:21:57.270798Z",
     "iopub.status.busy": "2022-06-06T11:21:57.270506Z",
     "iopub.status.idle": "2022-06-06T11:21:57.359259Z",
     "shell.execute_reply": "2022-06-06T11:21:57.358401Z"
    },
    "papermill": {
     "duration": 0.098578,
     "end_time": "2022-06-06T11:21:57.361093",
     "exception": false,
     "start_time": "2022-06-06T11:21:57.262515",
     "status": "completed"
    },
    "tags": [],
    "pycharm": {
     "name": "#%%\n"
    }
   },
   "outputs": [
    {
     "name": "stdout",
     "output_type": "stream",
     "text": [
      "XGB Version 1.6.1\n"
     ]
    }
   ],
   "source": [
    "# LOAD XGB LIBRARY\n",
    "from sklearn.model_selection import KFold\n",
    "import xgboost as xgb\n",
    "print('XGB Version',xgb.__version__)\n",
    "\n",
    "# XGB MODEL PARAMETERS\n",
    "xgb_parms = { \n",
    "    'max_depth':4, \n",
    "    'learning_rate':0.05, \n",
    "    'subsample':0.8,\n",
    "    'colsample_bytree':0.6, \n",
    "    'eval_metric':'logloss',\n",
    "    'objective':'binary:logistic',\n",
    "    'tree_method':'gpu_hist',\n",
    "    'predictor':'gpu_predictor',\n",
    "    'random_state':SEED\n",
    "}"
   ]
  },
  {
   "cell_type": "code",
   "execution_count": 8,
   "id": "19a82467",
   "metadata": {
    "execution": {
     "iopub.execute_input": "2022-06-06T11:21:57.376702Z",
     "iopub.status.busy": "2022-06-06T11:21:57.376103Z",
     "iopub.status.idle": "2022-06-06T11:21:57.384949Z",
     "shell.execute_reply": "2022-06-06T11:21:57.384101Z"
    },
    "papermill": {
     "duration": 0.018239,
     "end_time": "2022-06-06T11:21:57.386813",
     "exception": false,
     "start_time": "2022-06-06T11:21:57.368574",
     "status": "completed"
    },
    "tags": [],
    "pycharm": {
     "name": "#%%\n"
    }
   },
   "outputs": [],
   "source": [
    "# NEEDED WITH DeviceQuantileDMatrix BELOW\n",
    "class IterLoadForDMatrix(xgb.core.DataIter):\n",
    "    def __init__(self, df=None, features=None, target=None, batch_size=256*1024):\n",
    "        self.features = features\n",
    "        self.target = target\n",
    "        self.df = df\n",
    "        self.it = 0 # set iterator to 0\n",
    "        self.batch_size = batch_size\n",
    "        self.batches = int( np.ceil( len(df) / self.batch_size ) )\n",
    "        super().__init__()\n",
    "\n",
    "    def reset(self):\n",
    "        '''Reset the iterator'''\n",
    "        self.it = 0\n",
    "\n",
    "    def next(self, input_data):\n",
    "        '''Yield next batch of data.'''\n",
    "        if self.it == self.batches:\n",
    "            return 0 # Return 0 when there's no more batch.\n",
    "        \n",
    "        a = self.it * self.batch_size\n",
    "        b = min( (self.it + 1) * self.batch_size, len(self.df) )\n",
    "        dt = cudf.DataFrame(self.df.iloc[a:b])\n",
    "        input_data(data=dt[self.features], label=dt[self.target]) #, weight=dt['weight'])\n",
    "        self.it += 1\n",
    "        return 1"
   ]
  },
  {
   "cell_type": "code",
   "execution_count": 9,
   "id": "b93fcb24",
   "metadata": {
    "execution": {
     "iopub.execute_input": "2022-06-06T11:21:57.401833Z",
     "iopub.status.busy": "2022-06-06T11:21:57.401588Z",
     "iopub.status.idle": "2022-06-06T11:21:57.410556Z",
     "shell.execute_reply": "2022-06-06T11:21:57.409748Z"
    },
    "papermill": {
     "duration": 0.018607,
     "end_time": "2022-06-06T11:21:57.412235",
     "exception": false,
     "start_time": "2022-06-06T11:21:57.393628",
     "status": "completed"
    },
    "tags": [],
    "pycharm": {
     "name": "#%%\n"
    }
   },
   "outputs": [],
   "source": [
    "# https://www.kaggle.com/kyakovlev\n",
    "# https://www.kaggle.com/competitions/amex-default-prediction/discussion/327534\n",
    "def amex_metric_mod(y_true, y_pred):\n",
    "\n",
    "    labels     = np.transpose(np.array([y_true, y_pred]))\n",
    "    labels     = labels[labels[:, 1].argsort()[::-1]]\n",
    "    weights    = np.where(labels[:,0]==0, 20, 1)\n",
    "    cut_vals   = labels[np.cumsum(weights) <= int(0.04 * np.sum(weights))]\n",
    "    top_four   = np.sum(cut_vals[:,0]) / np.sum(labels[:,0])\n",
    "\n",
    "    gini = [0,0]\n",
    "    for i in [1,0]:\n",
    "        labels         = np.transpose(np.array([y_true, y_pred]))\n",
    "        labels         = labels[labels[:, i].argsort()[::-1]]\n",
    "        weight         = np.where(labels[:,0]==0, 20, 1)\n",
    "        weight_random  = np.cumsum(weight / np.sum(weight))\n",
    "        total_pos      = np.sum(labels[:, 0] *  weight)\n",
    "        cum_pos_found  = np.cumsum(labels[:, 0] * weight)\n",
    "        lorentz        = cum_pos_found / total_pos\n",
    "        gini[i]        = np.sum((lorentz - weight_random) * weight)\n",
    "\n",
    "    return 0.5 * (gini[1]/gini[0] + top_four)"
   ]
  },
  {
   "cell_type": "code",
   "execution_count": 10,
   "id": "72815ab5",
   "metadata": {
    "execution": {
     "iopub.execute_input": "2022-06-06T11:21:57.427286Z",
     "iopub.status.busy": "2022-06-06T11:21:57.427027Z",
     "iopub.status.idle": "2022-06-06T11:31:09.557567Z",
     "shell.execute_reply": "2022-06-06T11:31:09.556672Z"
    },
    "papermill": {
     "duration": 552.141046,
     "end_time": "2022-06-06T11:31:09.560336",
     "exception": false,
     "start_time": "2022-06-06T11:21:57.419290",
     "status": "completed"
    },
    "scrolled": true,
    "tags": [],
    "pycharm": {
     "name": "#%%\n"
    }
   },
   "outputs": [
    {
     "name": "stdout",
     "output_type": "stream",
     "text": [
      "#########################\n",
      "### Fold 1\n",
      "### Train size 367130 Valid size 91783\n",
      "### Training with 100% fold data...\n",
      "#########################\n",
      "[0]\ttrain-logloss:0.66283\tvalid-logloss:0.66283\n",
      "[100]\ttrain-logloss:0.23666\tvalid-logloss:0.23945\n",
      "[200]\ttrain-logloss:0.22229\tvalid-logloss:0.22760\n",
      "[300]\ttrain-logloss:0.21621\tvalid-logloss:0.22366\n",
      "[400]\ttrain-logloss:0.21221\tvalid-logloss:0.22161\n",
      "[500]\ttrain-logloss:0.20900\tvalid-logloss:0.22033\n",
      "[600]\ttrain-logloss:0.20626\tvalid-logloss:0.21954\n",
      "[700]\ttrain-logloss:0.20391\tvalid-logloss:0.21902\n",
      "[800]\ttrain-logloss:0.20165\tvalid-logloss:0.21865\n",
      "[900]\ttrain-logloss:0.19943\tvalid-logloss:0.21827\n",
      "[1000]\ttrain-logloss:0.19736\tvalid-logloss:0.21805\n",
      "[1100]\ttrain-logloss:0.19537\tvalid-logloss:0.21784\n",
      "[1200]\ttrain-logloss:0.19343\tvalid-logloss:0.21770\n",
      "[1300]\ttrain-logloss:0.19160\tvalid-logloss:0.21759\n",
      "[1400]\ttrain-logloss:0.18973\tvalid-logloss:0.21751\n",
      "[1500]\ttrain-logloss:0.18788\tvalid-logloss:0.21745\n",
      "[1600]\ttrain-logloss:0.18614\tvalid-logloss:0.21740\n",
      "[1700]\ttrain-logloss:0.18442\tvalid-logloss:0.21737\n",
      "[1798]\ttrain-logloss:0.18279\tvalid-logloss:0.21744\n",
      "Kaggle Metric = 0.7917197917828411 \n",
      "\n",
      "#########################\n",
      "### Fold 2\n",
      "### Train size 367130 Valid size 91783\n",
      "### Training with 100% fold data...\n",
      "#########################\n",
      "[0]\ttrain-logloss:0.66289\tvalid-logloss:0.66280\n",
      "[100]\ttrain-logloss:0.23714\tvalid-logloss:0.23787\n",
      "[200]\ttrain-logloss:0.22289\tvalid-logloss:0.22583\n",
      "[300]\ttrain-logloss:0.21670\tvalid-logloss:0.22182\n",
      "[400]\ttrain-logloss:0.21265\tvalid-logloss:0.21992\n",
      "[500]\ttrain-logloss:0.20945\tvalid-logloss:0.21874\n",
      "[600]\ttrain-logloss:0.20668\tvalid-logloss:0.21798\n",
      "[700]\ttrain-logloss:0.20423\tvalid-logloss:0.21755\n",
      "[800]\ttrain-logloss:0.20192\tvalid-logloss:0.21723\n",
      "[900]\ttrain-logloss:0.19980\tvalid-logloss:0.21702\n",
      "[1000]\ttrain-logloss:0.19773\tvalid-logloss:0.21688\n",
      "[1100]\ttrain-logloss:0.19572\tvalid-logloss:0.21674\n",
      "[1200]\ttrain-logloss:0.19390\tvalid-logloss:0.21664\n",
      "[1300]\ttrain-logloss:0.19201\tvalid-logloss:0.21651\n",
      "[1400]\ttrain-logloss:0.19013\tvalid-logloss:0.21641\n",
      "[1500]\ttrain-logloss:0.18834\tvalid-logloss:0.21638\n",
      "[1560]\ttrain-logloss:0.18729\tvalid-logloss:0.21640\n",
      "Kaggle Metric = 0.7918055597633943 \n",
      "\n",
      "#########################\n",
      "### Fold 3\n",
      "### Train size 367130 Valid size 91783\n",
      "### Training with 100% fold data...\n",
      "#########################\n",
      "[0]\ttrain-logloss:0.66282\tvalid-logloss:0.66298\n",
      "[100]\ttrain-logloss:0.23658\tvalid-logloss:0.24061\n",
      "[200]\ttrain-logloss:0.22214\tvalid-logloss:0.22869\n",
      "[300]\ttrain-logloss:0.21602\tvalid-logloss:0.22472\n",
      "[400]\ttrain-logloss:0.21201\tvalid-logloss:0.22280\n",
      "[500]\ttrain-logloss:0.20872\tvalid-logloss:0.22174\n",
      "[600]\ttrain-logloss:0.20598\tvalid-logloss:0.22106\n",
      "[700]\ttrain-logloss:0.20352\tvalid-logloss:0.22052\n",
      "[800]\ttrain-logloss:0.20125\tvalid-logloss:0.22017\n",
      "[900]\ttrain-logloss:0.19910\tvalid-logloss:0.21989\n",
      "[1000]\ttrain-logloss:0.19700\tvalid-logloss:0.21964\n",
      "[1100]\ttrain-logloss:0.19499\tvalid-logloss:0.21955\n",
      "[1200]\ttrain-logloss:0.19303\tvalid-logloss:0.21941\n",
      "[1300]\ttrain-logloss:0.19120\tvalid-logloss:0.21931\n",
      "[1400]\ttrain-logloss:0.18935\tvalid-logloss:0.21930\n",
      "[1500]\ttrain-logloss:0.18760\tvalid-logloss:0.21928\n",
      "[1600]\ttrain-logloss:0.18586\tvalid-logloss:0.21923\n",
      "[1700]\ttrain-logloss:0.18412\tvalid-logloss:0.21921\n",
      "[1800]\ttrain-logloss:0.18245\tvalid-logloss:0.21917\n",
      "[1868]\ttrain-logloss:0.18129\tvalid-logloss:0.21924\n",
      "Kaggle Metric = 0.7897768157182407 \n",
      "\n",
      "#########################\n",
      "### Fold 4\n",
      "### Train size 367131 Valid size 91782\n",
      "### Training with 100% fold data...\n",
      "#########################\n",
      "[0]\ttrain-logloss:0.66280\tvalid-logloss:0.66295\n",
      "[100]\ttrain-logloss:0.23653\tvalid-logloss:0.24081\n",
      "[200]\ttrain-logloss:0.22220\tvalid-logloss:0.22880\n",
      "[300]\ttrain-logloss:0.21597\tvalid-logloss:0.22492\n",
      "[400]\ttrain-logloss:0.21188\tvalid-logloss:0.22304\n",
      "[500]\ttrain-logloss:0.20870\tvalid-logloss:0.22206\n",
      "[600]\ttrain-logloss:0.20592\tvalid-logloss:0.22133\n",
      "[700]\ttrain-logloss:0.20341\tvalid-logloss:0.22072\n",
      "[800]\ttrain-logloss:0.20111\tvalid-logloss:0.22037\n",
      "[900]\ttrain-logloss:0.19898\tvalid-logloss:0.22016\n",
      "[1000]\ttrain-logloss:0.19685\tvalid-logloss:0.21999\n",
      "[1100]\ttrain-logloss:0.19480\tvalid-logloss:0.21986\n",
      "[1200]\ttrain-logloss:0.19283\tvalid-logloss:0.21972\n",
      "[1300]\ttrain-logloss:0.19092\tvalid-logloss:0.21968\n",
      "[1400]\ttrain-logloss:0.18910\tvalid-logloss:0.21962\n",
      "[1500]\ttrain-logloss:0.18732\tvalid-logloss:0.21963\n",
      "[1521]\ttrain-logloss:0.18696\tvalid-logloss:0.21964\n",
      "Kaggle Metric = 0.7878938674425217 \n",
      "\n",
      "#########################\n",
      "### Fold 5\n",
      "### Train size 367131 Valid size 91782\n",
      "### Training with 100% fold data...\n",
      "#########################\n",
      "[0]\ttrain-logloss:0.66285\tvalid-logloss:0.66277\n",
      "[100]\ttrain-logloss:0.23742\tvalid-logloss:0.23813\n",
      "[200]\ttrain-logloss:0.22312\tvalid-logloss:0.22596\n",
      "[300]\ttrain-logloss:0.21693\tvalid-logloss:0.22189\n",
      "[400]\ttrain-logloss:0.21286\tvalid-logloss:0.21983\n",
      "[500]\ttrain-logloss:0.20967\tvalid-logloss:0.21863\n",
      "[600]\ttrain-logloss:0.20698\tvalid-logloss:0.21791\n",
      "[700]\ttrain-logloss:0.20450\tvalid-logloss:0.21738\n",
      "[800]\ttrain-logloss:0.20219\tvalid-logloss:0.21693\n",
      "[900]\ttrain-logloss:0.20003\tvalid-logloss:0.21655\n",
      "[1000]\ttrain-logloss:0.19793\tvalid-logloss:0.21634\n",
      "[1100]\ttrain-logloss:0.19592\tvalid-logloss:0.21608\n",
      "[1200]\ttrain-logloss:0.19393\tvalid-logloss:0.21594\n",
      "[1300]\ttrain-logloss:0.19205\tvalid-logloss:0.21580\n",
      "[1400]\ttrain-logloss:0.19018\tvalid-logloss:0.21569\n",
      "[1500]\ttrain-logloss:0.18836\tvalid-logloss:0.21559\n",
      "[1600]\ttrain-logloss:0.18656\tvalid-logloss:0.21557\n",
      "[1700]\ttrain-logloss:0.18479\tvalid-logloss:0.21545\n",
      "[1800]\ttrain-logloss:0.18310\tvalid-logloss:0.21537\n",
      "[1900]\ttrain-logloss:0.18141\tvalid-logloss:0.21533\n",
      "[1964]\ttrain-logloss:0.18038\tvalid-logloss:0.21535\n",
      "Kaggle Metric = 0.7953943638785084 \n",
      "\n",
      "#########################\n",
      "OVERALL CV Kaggle Metric = 0.7913582522747471\n"
     ]
    }
   ],
   "source": [
    "importances = []\n",
    "oof = []\n",
    "train = train.to_pandas() # free GPU memory\n",
    "TRAIN_SUBSAMPLE = 1.0\n",
    "gc.collect()\n",
    "\n",
    "skf = KFold(n_splits=FOLDS, shuffle=True, random_state=SEED)\n",
    "for fold,(train_idx, valid_idx) in enumerate(skf.split(\n",
    "            train, train.target )):\n",
    "    \n",
    "    # TRAIN WITH SUBSAMPLE OF TRAIN FOLD DATA\n",
    "    if TRAIN_SUBSAMPLE<1.0:\n",
    "        np.random.seed(SEED)\n",
    "        train_idx = np.random.choice(train_idx, \n",
    "                       int(len(train_idx)*TRAIN_SUBSAMPLE), replace=False)\n",
    "        np.random.seed(None)\n",
    "    \n",
    "    print('#'*25)\n",
    "    print('### Fold',fold+1)\n",
    "    print('### Train size',len(train_idx),'Valid size',len(valid_idx))\n",
    "    print(f'### Training with {int(TRAIN_SUBSAMPLE*100)}% fold data...')\n",
    "    print('#'*25)\n",
    "    \n",
    "    # TRAIN, VALID, TEST FOR FOLD K\n",
    "    Xy_train = IterLoadForDMatrix(train.loc[train_idx], FEATURES, 'target')\n",
    "    X_valid = train.loc[valid_idx, FEATURES]\n",
    "    y_valid = train.loc[valid_idx, 'target']\n",
    "    \n",
    "    dtrain = xgb.DeviceQuantileDMatrix(Xy_train, max_bin=256)\n",
    "    dvalid = xgb.DMatrix(data=X_valid, label=y_valid)\n",
    "    \n",
    "    # TRAIN MODEL FOLD K\n",
    "    model = xgb.train(xgb_parms, \n",
    "                dtrain=dtrain,\n",
    "                evals=[(dtrain,'train'),(dvalid,'valid')],\n",
    "                num_boost_round=9999,\n",
    "                early_stopping_rounds=100,\n",
    "                verbose_eval=100) \n",
    "    model.save_model(f'XGB_v{VER}_fold{fold}.xgb')\n",
    "    \n",
    "    # GET FEATURE IMPORTANCE FOR FOLD K\n",
    "    dd = model.get_score(importance_type='weight')\n",
    "    df = pd.DataFrame({'feature':dd.keys(),f'importance_{fold}':dd.values()})\n",
    "    importances.append(df)\n",
    "            \n",
    "    # INFER OOF FOLD K\n",
    "    oof_preds = model.predict(dvalid)\n",
    "    acc = amex_metric_mod(y_valid.values, oof_preds)\n",
    "    print('Kaggle Metric =',acc,'\\n')\n",
    "    \n",
    "    # SAVE OOF\n",
    "    df = train.loc[valid_idx, ['customer_ID','target'] ].copy()\n",
    "    df['oof_pred'] = oof_preds\n",
    "    oof.append( df )\n",
    "    \n",
    "    del dtrain, Xy_train, dd, df\n",
    "    del X_valid, y_valid, dvalid, model\n",
    "    _ = gc.collect()\n",
    "    \n",
    "print('#'*25)\n",
    "oof = pd.concat(oof,axis=0,ignore_index=True).set_index('customer_ID')\n",
    "acc = amex_metric_mod(oof.target.values, oof.oof_pred.values)\n",
    "print('OVERALL CV Kaggle Metric =',acc)"
   ]
  },
  {
   "cell_type": "code",
   "execution_count": 11,
   "id": "45b0fcd1",
   "metadata": {
    "execution": {
     "iopub.execute_input": "2022-06-06T11:31:09.589325Z",
     "iopub.status.busy": "2022-06-06T11:31:09.588637Z",
     "iopub.status.idle": "2022-06-06T11:31:09.728125Z",
     "shell.execute_reply": "2022-06-06T11:31:09.727159Z"
    },
    "papermill": {
     "duration": 0.155515,
     "end_time": "2022-06-06T11:31:09.729872",
     "exception": false,
     "start_time": "2022-06-06T11:31:09.574357",
     "status": "completed"
    },
    "tags": [],
    "pycharm": {
     "name": "#%%\n"
    }
   },
   "outputs": [],
   "source": [
    "# CLEAN RAM\n",
    "del train\n",
    "_ = gc.collect()"
   ]
  },
  {
   "cell_type": "markdown",
   "id": "47c33964",
   "metadata": {
    "papermill": {
     "duration": 0.013214,
     "end_time": "2022-06-06T11:31:09.756695",
     "exception": false,
     "start_time": "2022-06-06T11:31:09.743481",
     "status": "completed"
    },
    "tags": [],
    "pycharm": {
     "name": "#%% md\n"
    }
   },
   "source": [
    "# Save OOF Preds"
   ]
  },
  {
   "cell_type": "code",
   "execution_count": 12,
   "id": "3bb60af0",
   "metadata": {
    "execution": {
     "iopub.execute_input": "2022-06-06T11:31:09.784567Z",
     "iopub.status.busy": "2022-06-06T11:31:09.783721Z",
     "iopub.status.idle": "2022-06-06T11:31:15.065804Z",
     "shell.execute_reply": "2022-06-06T11:31:15.064929Z"
    },
    "papermill": {
     "duration": 5.297897,
     "end_time": "2022-06-06T11:31:15.067625",
     "exception": false,
     "start_time": "2022-06-06T11:31:09.769728",
     "status": "completed"
    },
    "tags": [],
    "pycharm": {
     "name": "#%%\n"
    }
   },
   "outputs": [
    {
     "data": {
      "text/html": [
       "<div>\n",
       "<style scoped>\n",
       "    .dataframe tbody tr th:only-of-type {\n",
       "        vertical-align: middle;\n",
       "    }\n",
       "\n",
       "    .dataframe tbody tr th {\n",
       "        vertical-align: top;\n",
       "    }\n",
       "\n",
       "    .dataframe thead th {\n",
       "        text-align: right;\n",
       "    }\n",
       "</style>\n",
       "<table border=\"1\" class=\"dataframe\">\n",
       "  <thead>\n",
       "    <tr style=\"text-align: right;\">\n",
       "      <th></th>\n",
       "      <th>customer_ID</th>\n",
       "      <th>target</th>\n",
       "      <th>oof_pred</th>\n",
       "    </tr>\n",
       "  </thead>\n",
       "  <tbody>\n",
       "    <tr>\n",
       "      <th>0</th>\n",
       "      <td>20eac26171c3d251c55fc78204e59fab1c15fc2bc96d0c...</td>\n",
       "      <td>1</td>\n",
       "      <td>0.706591</td>\n",
       "    </tr>\n",
       "    <tr>\n",
       "      <th>1</th>\n",
       "      <td>aea50fdf9b974ccec95fa177c3225a0f913483b457de6e...</td>\n",
       "      <td>0</td>\n",
       "      <td>0.000456</td>\n",
       "    </tr>\n",
       "    <tr>\n",
       "      <th>2</th>\n",
       "      <td>32cd2d41aef737b69089882754395925c96eaee1f4a859...</td>\n",
       "      <td>0</td>\n",
       "      <td>0.003378</td>\n",
       "    </tr>\n",
       "    <tr>\n",
       "      <th>3</th>\n",
       "      <td>8daa6d5dc2655a8a437531e6b8b96829113cdfe9bf6cae...</td>\n",
       "      <td>0</td>\n",
       "      <td>0.012451</td>\n",
       "    </tr>\n",
       "    <tr>\n",
       "      <th>4</th>\n",
       "      <td>0ceba351a3851202542feb49d7385bcef32f6037fc57c7...</td>\n",
       "      <td>1</td>\n",
       "      <td>0.837162</td>\n",
       "    </tr>\n",
       "  </tbody>\n",
       "</table>\n",
       "</div>"
      ],
      "text/plain": [
       "                                         customer_ID  target  oof_pred\n",
       "0  20eac26171c3d251c55fc78204e59fab1c15fc2bc96d0c...       1  0.706591\n",
       "1  aea50fdf9b974ccec95fa177c3225a0f913483b457de6e...       0  0.000456\n",
       "2  32cd2d41aef737b69089882754395925c96eaee1f4a859...       0  0.003378\n",
       "3  8daa6d5dc2655a8a437531e6b8b96829113cdfe9bf6cae...       0  0.012451\n",
       "4  0ceba351a3851202542feb49d7385bcef32f6037fc57c7...       1  0.837162"
      ]
     },
     "execution_count": 12,
     "metadata": {},
     "output_type": "execute_result"
    }
   ],
   "source": [
    "oof_xgb = pd.read_parquet(TRAIN_PATH, columns=['customer_ID']).drop_duplicates()\n",
    "oof_xgb['customer_ID_hash'] = oof_xgb['customer_ID'].apply(lambda x: int(x[-16:],16) ).astype('int64')\n",
    "oof_xgb = oof_xgb.set_index('customer_ID_hash')\n",
    "oof_xgb = oof_xgb.merge(oof, left_index=True, right_index=True)\n",
    "oof_xgb = oof_xgb.sort_index().reset_index(drop=True)\n",
    "oof_xgb.to_csv(f'oof_xgb_v{VER}.csv',index=False)\n",
    "oof_xgb.head()"
   ]
  },
  {
   "cell_type": "code",
   "execution_count": 13,
   "id": "c1e002e2",
   "metadata": {
    "execution": {
     "iopub.execute_input": "2022-06-06T11:31:15.097327Z",
     "iopub.status.busy": "2022-06-06T11:31:15.096682Z",
     "iopub.status.idle": "2022-06-06T11:31:15.474981Z",
     "shell.execute_reply": "2022-06-06T11:31:15.474222Z"
    },
    "papermill": {
     "duration": 0.394727,
     "end_time": "2022-06-06T11:31:15.476728",
     "exception": false,
     "start_time": "2022-06-06T11:31:15.082001",
     "status": "completed"
    },
    "tags": [],
    "pycharm": {
     "name": "#%%\n"
    }
   },
   "outputs": [
    {
     "data": {
      "image/png": "[encoded data removed]",
      "text/plain": [
       "<Figure size 432x288 with 1 Axes>"
      ]
     },
     "metadata": {
      "needs_background": "light"
     },
     "output_type": "display_data"
    }
   ],
   "source": [
    "# PLOT OOF PREDICTIONS\n",
    "plt.hist(oof_xgb.oof_pred.values, bins=100)\n",
    "plt.title('OOF Predictions')\n",
    "plt.show()"
   ]
  },
  {
   "cell_type": "code",
   "execution_count": 14,
   "id": "2b81c636",
   "metadata": {
    "execution": {
     "iopub.execute_input": "2022-06-06T11:31:15.506018Z",
     "iopub.status.busy": "2022-06-06T11:31:15.505707Z",
     "iopub.status.idle": "2022-06-06T11:31:15.649375Z",
     "shell.execute_reply": "2022-06-06T11:31:15.648426Z"
    },
    "papermill": {
     "duration": 0.160294,
     "end_time": "2022-06-06T11:31:15.651235",
     "exception": false,
     "start_time": "2022-06-06T11:31:15.490941",
     "status": "completed"
    },
    "tags": [],
    "pycharm": {
     "name": "#%%\n"
    }
   },
   "outputs": [],
   "source": [
    "# CLEAR VRAM, RAM FOR INFERENCE BELOW\n",
    "del oof_xgb, oof\n",
    "_ = gc.collect()"
   ]
  },
  {
   "cell_type": "markdown",
   "id": "7b8ba88c",
   "metadata": {
    "papermill": {
     "duration": 0.013247,
     "end_time": "2022-06-06T11:31:15.678846",
     "exception": false,
     "start_time": "2022-06-06T11:31:15.665599",
     "status": "completed"
    },
    "tags": [],
    "pycharm": {
     "name": "#%% md\n"
    }
   },
   "source": [
    "# Feature Importance"
   ]
  },
  {
   "cell_type": "code",
   "execution_count": 15,
   "id": "0f1173db",
   "metadata": {
    "execution": {
     "iopub.execute_input": "2022-06-06T11:31:15.708408Z",
     "iopub.status.busy": "2022-06-06T11:31:15.708056Z",
     "iopub.status.idle": "2022-06-06T11:31:15.738489Z",
     "shell.execute_reply": "2022-06-06T11:31:15.737633Z"
    },
    "papermill": {
     "duration": 0.04789,
     "end_time": "2022-06-06T11:31:15.740614",
     "exception": false,
     "start_time": "2022-06-06T11:31:15.692724",
     "status": "completed"
    },
    "tags": [],
    "pycharm": {
     "name": "#%%\n"
    }
   },
   "outputs": [],
   "source": [
    "import matplotlib.pyplot as plt\n",
    "\n",
    "df = importances[0].copy()\n",
    "for k in range(1,FOLDS): df = df.merge(importances[k], on='feature', how='left')\n",
    "df['importance'] = df.iloc[:,1:].mean(axis=1)\n",
    "df = df.sort_values('importance',ascending=False)\n",
    "df.to_csv(f'xgb_feature_importance_v{VER}.csv',index=False)"
   ]
  },
  {
   "cell_type": "code",
   "execution_count": 16,
   "id": "23074210",
   "metadata": {
    "execution": {
     "iopub.execute_input": "2022-06-06T11:31:15.771283Z",
     "iopub.status.busy": "2022-06-06T11:31:15.770956Z",
     "iopub.status.idle": "2022-06-06T11:31:16.045887Z",
     "shell.execute_reply": "2022-06-06T11:31:16.045075Z"
    },
    "papermill": {
     "duration": 0.291703,
     "end_time": "2022-06-06T11:31:16.047856",
     "exception": false,
     "start_time": "2022-06-06T11:31:15.756153",
     "status": "completed"
    },
    "tags": [],
    "pycharm": {
     "name": "#%%\n"
    }
   },
   "outputs": [
    {
     "data": {
      "image/png": "[encoded data removed]",
      "text/plain": [
       "<Figure size 720x720 with 1 Axes>"
      ]
     },
     "metadata": {
      "needs_background": "light"
     },
     "output_type": "display_data"
    }
   ],
   "source": [
    "NUM_FEATURES = 20\n",
    "plt.figure(figsize=(10,5*NUM_FEATURES//10))\n",
    "plt.barh(np.arange(NUM_FEATURES,0,-1), df.importance.values[:NUM_FEATURES])\n",
    "plt.yticks(np.arange(NUM_FEATURES,0,-1), df.feature.values[:NUM_FEATURES])\n",
    "plt.title(f'XGB Feature Importance - Top {NUM_FEATURES}')\n",
    "plt.show()"
   ]
  },
  {
   "cell_type": "markdown",
   "id": "3efa44b2",
   "metadata": {
    "papermill": {
     "duration": 0.014234,
     "end_time": "2022-06-06T11:31:16.076727",
     "exception": false,
     "start_time": "2022-06-06T11:31:16.062493",
     "status": "completed"
    },
    "tags": [],
    "pycharm": {
     "name": "#%% md\n"
    }
   },
   "source": [
    "# Process and Feature Engineer Test Data\n",
    "We will load @raddar Kaggle dataset from [here][1] with discussion [here][2]. Then we will engineer features suggested by @huseyincot in his notebooks [here][1] and [here][4]. We will use [RAPIDS][5] and the GPU to create new features quickly.\n",
    "\n",
    "[1]: https://www.kaggle.com/datasets/raddar/amex-data-integer-dtypes-parquet-format\n",
    "[2]: https://www.kaggle.com/competitions/amex-default-prediction/discussion/328514\n",
    "[3]: https://www.kaggle.com/code/huseyincot/amex-catboost-0-793\n",
    "[4]: https://www.kaggle.com/code/huseyincot/amex-agg-data-how-it-created\n",
    "[5]: https://rapids.ai/"
   ]
  },
  {
   "cell_type": "code",
   "execution_count": 17,
   "id": "24786f32",
   "metadata": {
    "execution": {
     "iopub.execute_input": "2022-06-06T11:31:16.107616Z",
     "iopub.status.busy": "2022-06-06T11:31:16.106774Z",
     "iopub.status.idle": "2022-06-06T11:31:18.923327Z",
     "shell.execute_reply": "2022-06-06T11:31:18.922517Z"
    },
    "papermill": {
     "duration": 2.833956,
     "end_time": "2022-06-06T11:31:18.925211",
     "exception": false,
     "start_time": "2022-06-06T11:31:16.091255",
     "status": "completed"
    },
    "tags": [],
    "pycharm": {
     "name": "#%%\n"
    }
   },
   "outputs": [
    {
     "name": "stdout",
     "output_type": "stream",
     "text": [
      "Reading test data...\n",
      "shape of data: (11363762, 2)\n",
      "We will process test data as 4 separate parts.\n",
      "There will be 231155 customers in each part (except the last part).\n",
      "Below are number of rows in each part:\n",
      "[2841209, 2839857, 2842105, 2840591]\n"
     ]
    }
   ],
   "source": [
    "# CALCULATE SIZE OF EACH SEPARATE TEST PART\n",
    "def get_rows(customers, test, NUM_PARTS = 4, verbose = ''):\n",
    "    chunk = len(customers)//NUM_PARTS\n",
    "    if verbose != '':\n",
    "        print(f'We will process {verbose} data as {NUM_PARTS} separate parts.')\n",
    "        print(f'There will be {chunk} customers in each part (except the last part).')\n",
    "        print('Below are number of rows in each part:')\n",
    "    rows = []\n",
    "\n",
    "    for k in range(NUM_PARTS):\n",
    "        if k==NUM_PARTS-1: cc = customers[k*chunk:]\n",
    "        else: cc = customers[k*chunk:(k+1)*chunk]\n",
    "        s = test.loc[test.customer_ID.isin(cc)].shape[0]\n",
    "        rows.append(s)\n",
    "    if verbose != '': print( rows )\n",
    "    return rows,chunk\n",
    "\n",
    "# COMPUTE SIZE OF 4 PARTS FOR TEST DATA\n",
    "NUM_PARTS = 4\n",
    "TEST_PATH = '../input/amex-data-integer-dtypes-parquet-format/test.parquet'\n",
    "\n",
    "print(f'Reading test data...')\n",
    "test = read_file(path = TEST_PATH, usecols = ['customer_ID','S_2'])\n",
    "customers = test[['customer_ID']].drop_duplicates().sort_index().values.flatten()\n",
    "rows,num_cust = get_rows(customers, test[['customer_ID']], NUM_PARTS = NUM_PARTS, verbose = 'test')"
   ]
  },
  {
   "cell_type": "markdown",
   "id": "4fac5fc0",
   "metadata": {
    "papermill": {
     "duration": 0.015647,
     "end_time": "2022-06-06T11:31:18.956281",
     "exception": false,
     "start_time": "2022-06-06T11:31:18.940634",
     "status": "completed"
    },
    "tags": [],
    "pycharm": {
     "name": "#%% md\n"
    }
   },
   "source": [
    "# Infer Test"
   ]
  },
  {
   "cell_type": "code",
   "execution_count": 18,
   "id": "f52b8f0c",
   "metadata": {
    "execution": {
     "iopub.execute_input": "2022-06-06T11:31:18.987258Z",
     "iopub.status.busy": "2022-06-06T11:31:18.986914Z",
     "iopub.status.idle": "2022-06-06T11:33:43.835059Z",
     "shell.execute_reply": "2022-06-06T11:33:43.834271Z"
    },
    "papermill": {
     "duration": 144.866539,
     "end_time": "2022-06-06T11:33:43.837648",
     "exception": false,
     "start_time": "2022-06-06T11:31:18.971109",
     "status": "completed"
    },
    "tags": [],
    "pycharm": {
     "name": "#%%\n"
    }
   },
   "outputs": [
    {
     "name": "stdout",
     "output_type": "stream",
     "text": [
      "\n",
      "Reading test data...\n",
      "shape of data: (11363762, 190)\n",
      "=> Test part 1 has shape (2841209, 190)\n",
      "shape after engineering (231155, 918)\n",
      "\n",
      "Reading test data...\n",
      "shape of data: (11363762, 190)\n",
      "=> Test part 2 has shape (2839857, 190)\n",
      "shape after engineering (231155, 918)\n",
      "\n",
      "Reading test data...\n",
      "shape of data: (11363762, 190)\n",
      "=> Test part 3 has shape (2842105, 190)\n",
      "shape after engineering (231155, 918)\n",
      "\n",
      "Reading test data...\n",
      "shape of data: (11363762, 190)\n",
      "=> Test part 4 has shape (2840591, 190)\n",
      "shape after engineering (231156, 918)\n"
     ]
    }
   ],
   "source": [
    "# INFER TEST DATA IN PARTS\n",
    "skip_rows = 0\n",
    "skip_cust = 0\n",
    "test_preds = []\n",
    "\n",
    "for k in range(NUM_PARTS):\n",
    "    \n",
    "    # READ PART OF TEST DATA\n",
    "    print(f'\\nReading test data...')\n",
    "    test = read_file(path = TEST_PATH)\n",
    "    test = test.iloc[skip_rows:skip_rows+rows[k]]\n",
    "    skip_rows += rows[k]\n",
    "    print(f'=> Test part {k+1} has shape', test.shape )\n",
    "    \n",
    "    # PROCESS AND FEATURE ENGINEER PART OF TEST DATA\n",
    "    test = process_and_feature_engineer(test)\n",
    "    if k==NUM_PARTS-1: test = test.loc[customers[skip_cust:]]\n",
    "    else: test = test.loc[customers[skip_cust:skip_cust+num_cust]]\n",
    "    skip_cust += num_cust\n",
    "    \n",
    "    # TEST DATA FOR XGB\n",
    "    X_test = test[FEATURES]\n",
    "    dtest = xgb.DMatrix(data=X_test)\n",
    "    test = test[['P_2_mean']] # reduce memory\n",
    "    del X_test\n",
    "    gc.collect()\n",
    "\n",
    "    # INFER XGB MODELS ON TEST DATA\n",
    "    model = xgb.Booster()\n",
    "    model.load_model(f'XGB_v{VER}_fold0.xgb')\n",
    "    preds = model.predict(dtest)\n",
    "    for f in range(1,FOLDS):\n",
    "        model.load_model(f'XGB_v{VER}_fold{f}.xgb')\n",
    "        preds += model.predict(dtest)\n",
    "    preds /= FOLDS\n",
    "    test_preds.append(preds)\n",
    "\n",
    "    # CLEAN MEMORY\n",
    "    del dtest, model\n",
    "    _ = gc.collect()"
   ]
  },
  {
   "cell_type": "markdown",
   "id": "1e0d9d35",
   "metadata": {
    "papermill": {
     "duration": 0.014774,
     "end_time": "2022-06-06T11:33:43.867786",
     "exception": false,
     "start_time": "2022-06-06T11:33:43.853012",
     "status": "completed"
    },
    "tags": [],
    "pycharm": {
     "name": "#%% md\n"
    }
   },
   "source": [
    "# Create Submission CSV"
   ]
  },
  {
   "cell_type": "code",
   "execution_count": 19,
   "id": "d3c9686d",
   "metadata": {
    "execution": {
     "iopub.execute_input": "2022-06-06T11:33:43.898814Z",
     "iopub.status.busy": "2022-06-06T11:33:43.898478Z",
     "iopub.status.idle": "2022-06-06T11:33:45.059505Z",
     "shell.execute_reply": "2022-06-06T11:33:45.058475Z"
    },
    "papermill": {
     "duration": 1.179078,
     "end_time": "2022-06-06T11:33:45.061744",
     "exception": false,
     "start_time": "2022-06-06T11:33:43.882666",
     "status": "completed"
    },
    "tags": [],
    "pycharm": {
     "name": "#%%\n"
    }
   },
   "outputs": [
    {
     "name": "stdout",
     "output_type": "stream",
     "text": [
      "Submission file shape is (924621, 2)\n"
     ]
    },
    {
     "data": {
      "text/html": [
       "<div>\n",
       "<style scoped>\n",
       "    .dataframe tbody tr th:only-of-type {\n",
       "        vertical-align: middle;\n",
       "    }\n",
       "\n",
       "    .dataframe tbody tr th {\n",
       "        vertical-align: top;\n",
       "    }\n",
       "\n",
       "    .dataframe thead th {\n",
       "        text-align: right;\n",
       "    }\n",
       "</style>\n",
       "<table border=\"1\" class=\"dataframe\">\n",
       "  <thead>\n",
       "    <tr style=\"text-align: right;\">\n",
       "      <th></th>\n",
       "      <th>customer_ID</th>\n",
       "      <th>prediction</th>\n",
       "    </tr>\n",
       "  </thead>\n",
       "  <tbody>\n",
       "    <tr>\n",
       "      <th>0</th>\n",
       "      <td>0359e97c244bbbbe2db7c21e891debe80e82291f2e470e...</td>\n",
       "      <td>0.002004</td>\n",
       "    </tr>\n",
       "    <tr>\n",
       "      <th>1</th>\n",
       "      <td>035b3479c9020483c00b7dac8f816759bb3aa6fdd8dfab...</td>\n",
       "      <td>0.000486</td>\n",
       "    </tr>\n",
       "    <tr>\n",
       "      <th>2</th>\n",
       "      <td>035a556cc13aae13de7bdcc71c81a1ab27f586f2ddf50e...</td>\n",
       "      <td>0.002629</td>\n",
       "    </tr>\n",
       "    <tr>\n",
       "      <th>3</th>\n",
       "      <td>035bca6744c2fe912b15a0bc6011f3ec679cbc7c60e049...</td>\n",
       "      <td>0.040627</td>\n",
       "    </tr>\n",
       "    <tr>\n",
       "      <th>4</th>\n",
       "      <td>0359f31145b54da7258ed5ff894cbe50dd4302d3d4a1e9...</td>\n",
       "      <td>0.041986</td>\n",
       "    </tr>\n",
       "  </tbody>\n",
       "</table>\n",
       "</div>"
      ],
      "text/plain": [
       "                                         customer_ID  prediction\n",
       "0  0359e97c244bbbbe2db7c21e891debe80e82291f2e470e...    0.002004\n",
       "1  035b3479c9020483c00b7dac8f816759bb3aa6fdd8dfab...    0.000486\n",
       "2  035a556cc13aae13de7bdcc71c81a1ab27f586f2ddf50e...    0.002629\n",
       "3  035bca6744c2fe912b15a0bc6011f3ec679cbc7c60e049...    0.040627\n",
       "4  0359f31145b54da7258ed5ff894cbe50dd4302d3d4a1e9...    0.041986"
      ]
     },
     "execution_count": 19,
     "metadata": {},
     "output_type": "execute_result"
    }
   ],
   "source": [
    "# WRITE SUBMISSION FILE\n",
    "test_preds = np.concatenate(test_preds)\n",
    "test = cudf.DataFrame(index=customers,data={'prediction':test_preds})\n",
    "sub = cudf.read_csv('../input/amex-default-prediction/sample_submission.csv')[['customer_ID']]\n",
    "sub['customer_ID_hash'] = sub['customer_ID'].str[-16:].str.hex_to_int().astype('int64')\n",
    "sub = sub.set_index('customer_ID_hash')\n",
    "sub = sub.merge(test[['prediction']], left_index=True, right_index=True, how='left')\n",
    "sub = sub.reset_index(drop=True)\n",
    "\n",
    "# DISPLAY PREDICTIONS\n",
    "sub.to_csv(f'submission_xgb_v{VER}.csv',index=False)\n",
    "print('Submission file shape is', sub.shape )\n",
    "sub.head()"
   ]
  },
  {
   "cell_type": "code",
   "execution_count": 20,
   "id": "85f57b5c",
   "metadata": {
    "execution": {
     "iopub.execute_input": "2022-06-06T11:33:45.094630Z",
     "iopub.status.busy": "2022-06-06T11:33:45.094001Z",
     "iopub.status.idle": "2022-06-06T11:33:45.816323Z",
     "shell.execute_reply": "2022-06-06T11:33:45.815584Z"
    },
    "papermill": {
     "duration": 0.740652,
     "end_time": "2022-06-06T11:33:45.818157",
     "exception": false,
     "start_time": "2022-06-06T11:33:45.077505",
     "status": "completed"
    },
    "tags": [],
    "pycharm": {
     "name": "#%%\n"
    }
   },
   "outputs": [
    {
     "data": {
      "image/png": "[encoded data removed]",
      "text/plain": [
       "<Figure size 432x288 with 1 Axes>"
      ]
     },
     "metadata": {
      "needs_background": "light"
     },
     "output_type": "display_data"
    }
   ],
   "source": [
    "# PLOT PREDICTIONS\n",
    "plt.hist(sub.to_pandas().prediction, bins=100)\n",
    "plt.title('Test Predictions')\n",
    "plt.show()"
   ]
  }
 ],
 "metadata": {
  "kernelspec": {
   "display_name": "Python 3",
   "language": "python",
   "name": "python3"
  },
  "language_info": {
   "codemirror_mode": {
    "name": "ipython",
    "version": 3
   },
   "file_extension": ".py",
   "mimetype": "text/x-python",
   "name": "python",
   "nbconvert_exporter": "python",
   "pygments_lexer": "ipython3",
   "version": "3.7.12"
  },
  "papermill": {
   "default_parameters": {},
   "duration": 749.487656,
   "end_time": "2022-06-06T11:33:47.264089",
   "environment_variables": {},
   "exception": null,
   "input_path": "__notebook__.ipynb",
   "output_path": "__notebook__.ipynb",
   "parameters": {},
   "start_time": "2022-06-06T11:21:17.776433",
   "version": "2.3.4"
  }
 },
 "nbformat": 4,
 "nbformat_minor": 5
}