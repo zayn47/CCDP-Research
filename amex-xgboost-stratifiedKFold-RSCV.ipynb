{
 "cells": [
  {
   "cell_type": "code",
   "execution_count": 18,
   "metadata": {
    "collapsed": true,
    "pycharm": {
     "name": "#%%\n"
    }
   },
   "outputs": [],
   "source": [
    "import os\n",
    "import time\n",
    "import pandas as pd\n",
    "import numpy as np\n",
    "import xgboost as xgb\n",
    "from matplotlib import pyplot as plt\n",
    "from sklearn.model_selection import StratifiedKFold, RandomizedSearchCV\n",
    "from sklearn.metrics import accuracy_score"
   ]
  },
  {
   "cell_type": "code",
   "execution_count": 2,
   "metadata": {
    "pycharm": {
     "name": "#%%\n"
    }
   },
   "outputs": [],
   "source": [
    "# SET PATH\n",
    "path = f\"{os.getcwd()}/dataset/train.parquet\"\n",
    "# LOAD PARQUET DATASET WITH FEATURE ENGINEERING\n",
    "df = pd.read_parquet(path=path)"
   ]
  },
  {
   "cell_type": "code",
   "execution_count": 3,
   "metadata": {
    "pycharm": {
     "name": "#%%\n"
    }
   },
   "outputs": [
    {
     "name": "stdout",
     "output_type": "stream",
     "text": [
      "shape of data: (458913, 188)\n"
     ]
    }
   ],
   "source": [
    "# REDUCE DTYPE FOR CUSTOMER AND DATE\n",
    "df['customer_ID']= df['customer_ID'].str[-16:].apply(int, base=16)\n",
    "\n",
    "# S_2 is not relevant so lets drop it\n",
    "df.drop(['S_2'],axis=1,inplace=True)\n",
    "\n",
    "# df = df.fillna(-127)\n",
    "\n",
    "# There are multiple transactions. Let's take only the latest transaction from each customer.\n",
    "df= df.groupby('customer_ID').tail(1)\n",
    "df= df.set_index(['customer_ID'])\n",
    "\n",
    "print('shape of data:', df.shape)"
   ]
  },
  {
   "cell_type": "code",
   "execution_count": 4,
   "metadata": {
    "pycharm": {
     "name": "#%%\n"
    }
   },
   "outputs": [
    {
     "data": {
      "text/plain": "                           P_2  D_39       B_1       B_2       R_1       S_3  \\\ncustomer_ID                                                                    \n13914591055249847850  0.934745     0  0.009382  1.007647  0.006104  0.135021   \n11750091188498716901  0.880519     6  0.034684  1.004028  0.006911  0.165509   \n7128959966677571777   0.880875     0  0.004284  0.812649  0.006450       NaN   \n6537921148391624412   0.621776     0  0.012564  1.006183  0.007829  0.287766   \n2065103583825424365   0.871900     0  0.007679  0.815746  0.001247       NaN   \n\n                      D_41       B_3  D_42      D_43  ...  D_136  D_137  \\\ncustomer_ID                                           ...                 \n13914591055249847850   0.0  0.007174   NaN       NaN  ...     -1     -1   \n11750091188498716901   0.0  0.005068   NaN  0.060646  ...     -1     -1   \n7128959966677571777    0.0  0.007196   NaN       NaN  ...     -1     -1   \n6537921148391624412    0.0  0.009937   NaN  0.046104  ...     -1     -1   \n2065103583825424365    0.0  0.005528   NaN  0.044671  ...     -1     -1   \n\n                      D_138  D_139  D_140  D_141  D_142  D_143     D_144  \\\ncustomer_ID                                                                \n13914591055249847850     -1      0      0    0.0    NaN      0  0.002970   \n11750091188498716901     -1      0      0    0.0    NaN      0  0.003169   \n7128959966677571777      -1      0      0    0.0    NaN      0  0.000834   \n6537921148391624412      -1      0      0    0.0    NaN      0  0.005560   \n2065103583825424365      -1      0      0    0.0    NaN      0  0.006944   \n\n                      D_145  \ncustomer_ID                  \n13914591055249847850      0  \n11750091188498716901      0  \n7128959966677571777       0  \n6537921148391624412       0  \n2065103583825424365       0  \n\n[5 rows x 188 columns]",
      "text/html": "<div>\n<style scoped>\n    .dataframe tbody tr th:only-of-type {\n        vertical-align: middle;\n    }\n\n    .dataframe tbody tr th {\n        vertical-align: top;\n    }\n\n    .dataframe thead th {\n        text-align: right;\n    }\n</style>\n<table border=\"1\" class=\"dataframe\">\n  <thead>\n    <tr style=\"text-align: right;\">\n      <th></th>\n      <th>P_2</th>\n      <th>D_39</th>\n      <th>B_1</th>\n      <th>B_2</th>\n      <th>R_1</th>\n      <th>S_3</th>\n      <th>D_41</th>\n      <th>B_3</th>\n      <th>D_42</th>\n      <th>D_43</th>\n      <th>...</th>\n      <th>D_136</th>\n      <th>D_137</th>\n      <th>D_138</th>\n      <th>D_139</th>\n      <th>D_140</th>\n      <th>D_141</th>\n      <th>D_142</th>\n      <th>D_143</th>\n      <th>D_144</th>\n      <th>D_145</th>\n    </tr>\n    <tr>\n      <th>customer_ID</th>\n      <th></th>\n      <th></th>\n      <th></th>\n      <th></th>\n      <th></th>\n      <th></th>\n      <th></th>\n      <th></th>\n      <th></th>\n      <th></th>\n      <th></th>\n      <th></th>\n      <th></th>\n      <th></th>\n      <th></th>\n      <th></th>\n      <th></th>\n      <th></th>\n      <th></th>\n      <th></th>\n      <th></th>\n    </tr>\n  </thead>\n  <tbody>\n    <tr>\n      <th>13914591055249847850</th>\n      <td>0.934745</td>\n      <td>0</td>\n      <td>0.009382</td>\n      <td>1.007647</td>\n      <td>0.006104</td>\n      <td>0.135021</td>\n      <td>0.0</td>\n      <td>0.007174</td>\n      <td>NaN</td>\n      <td>NaN</td>\n      <td>...</td>\n      <td>-1</td>\n      <td>-1</td>\n      <td>-1</td>\n      <td>0</td>\n      <td>0</td>\n      <td>0.0</td>\n      <td>NaN</td>\n      <td>0</td>\n      <td>0.002970</td>\n      <td>0</td>\n    </tr>\n    <tr>\n      <th>11750091188498716901</th>\n      <td>0.880519</td>\n      <td>6</td>\n      <td>0.034684</td>\n      <td>1.004028</td>\n      <td>0.006911</td>\n      <td>0.165509</td>\n      <td>0.0</td>\n      <td>0.005068</td>\n      <td>NaN</td>\n      <td>0.060646</td>\n      <td>...</td>\n      <td>-1</td>\n      <td>-1</td>\n      <td>-1</td>\n      <td>0</td>\n      <td>0</td>\n      <td>0.0</td>\n      <td>NaN</td>\n      <td>0</td>\n      <td>0.003169</td>\n      <td>0</td>\n    </tr>\n    <tr>\n      <th>7128959966677571777</th>\n      <td>0.880875</td>\n      <td>0</td>\n      <td>0.004284</td>\n      <td>0.812649</td>\n      <td>0.006450</td>\n      <td>NaN</td>\n      <td>0.0</td>\n      <td>0.007196</td>\n      <td>NaN</td>\n      <td>NaN</td>\n      <td>...</td>\n      <td>-1</td>\n      <td>-1</td>\n      <td>-1</td>\n      <td>0</td>\n      <td>0</td>\n      <td>0.0</td>\n      <td>NaN</td>\n      <td>0</td>\n      <td>0.000834</td>\n      <td>0</td>\n    </tr>\n    <tr>\n      <th>6537921148391624412</th>\n      <td>0.621776</td>\n      <td>0</td>\n      <td>0.012564</td>\n      <td>1.006183</td>\n      <td>0.007829</td>\n      <td>0.287766</td>\n      <td>0.0</td>\n      <td>0.009937</td>\n      <td>NaN</td>\n      <td>0.046104</td>\n      <td>...</td>\n      <td>-1</td>\n      <td>-1</td>\n      <td>-1</td>\n      <td>0</td>\n      <td>0</td>\n      <td>0.0</td>\n      <td>NaN</td>\n      <td>0</td>\n      <td>0.005560</td>\n      <td>0</td>\n    </tr>\n    <tr>\n      <th>2065103583825424365</th>\n      <td>0.871900</td>\n      <td>0</td>\n      <td>0.007679</td>\n      <td>0.815746</td>\n      <td>0.001247</td>\n      <td>NaN</td>\n      <td>0.0</td>\n      <td>0.005528</td>\n      <td>NaN</td>\n      <td>0.044671</td>\n      <td>...</td>\n      <td>-1</td>\n      <td>-1</td>\n      <td>-1</td>\n      <td>0</td>\n      <td>0</td>\n      <td>0.0</td>\n      <td>NaN</td>\n      <td>0</td>\n      <td>0.006944</td>\n      <td>0</td>\n    </tr>\n  </tbody>\n</table>\n<p>5 rows × 188 columns</p>\n</div>"
     },
     "execution_count": 4,
     "metadata": {},
     "output_type": "execute_result"
    }
   ],
   "source": [
    "df.head()"
   ]
  },
  {
   "cell_type": "code",
   "execution_count": 5,
   "metadata": {
    "pycharm": {
     "name": "#%%\n"
    }
   },
   "outputs": [
    {
     "name": "stdout",
     "output_type": "stream",
     "text": [
      "There are 188 features!\n",
      "Train data Shape (458913, 190)\n"
     ]
    }
   ],
   "source": [
    "# Read and process Train Labels\n",
    "targets = pd.read_csv(f\"{os.getcwd()}/dataset/train_labels.csv\")\n",
    "targets['customer_ID'] = targets['customer_ID'].str[-16:].apply(int, base=16)\n",
    "targets = targets.set_index('customer_ID')\n",
    "train_data = df.merge(targets, left_index=True, right_index=True, how='left')\n",
    "train_data.target = train_data.target.astype('int8')\n",
    "del targets, df\n",
    "# NEEDED TO MAKE CV DETERMINISTIC (Pandas merge above randomly shuffles rows)\n",
    "train_data = train_data.sort_index().reset_index()\n",
    "\n",
    "# FEATURES\n",
    "FEATURES = train_data.columns[1:-1]\n",
    "print(f'There are {len(FEATURES)} features!')\n",
    "print(\"Train data Shape\", train_data.shape)"
   ]
  },
  {
   "cell_type": "code",
   "execution_count": 6,
   "metadata": {
    "pycharm": {
     "name": "#%%\n"
    }
   },
   "outputs": [],
   "source": [
    "x_train = train_data.drop(['target','customer_ID'],axis=1).values\n",
    "y_train = train_data['target'].values\n",
    "\n",
    "# PARAMS FOR RANDOMIZED-SEARCH-CV\n",
    "params = {\n",
    " \"learning_rate\" : [0.05,0.10,0.15,0.20,0.25,0.30],\n",
    " \"max_depth\" : [ 3, 4, 5, 6, 8, 10, 12, 15],\n",
    " \"min_child_weight\" : [ 1, 3, 5, 7 ],\n",
    " \"gamma\": [ 0.0, 0.1, 0.2 , 0.3, 0.4 ],\n",
    " \"colsample_bytree\" : [ 0.3, 0.4, 0.5 , 0.7 ]\n",
    "}"
   ]
  },
  {
   "cell_type": "code",
   "execution_count": 9,
   "metadata": {
    "pycharm": {
     "name": "#%%\n"
    }
   },
   "outputs": [],
   "source": [
    "# INITIALIZED XGBOOST MODEL\n",
    "xgb_cal = xgb.XGBClassifier()\n",
    "\n",
    "rs_model=RandomizedSearchCV(xgb_cal,param_distributions=params,n_iter=5,scoring='roc_auc',n_jobs=-1,cv=5,verbose=3)"
   ]
  },
  {
   "cell_type": "code",
   "execution_count": 17,
   "metadata": {
    "pycharm": {
     "name": "#%%\n"
    }
   },
   "outputs": [
    {
     "name": "stdout",
     "output_type": "stream",
     "text": [
      "Fitting 5 folds for each of 5 candidates, totalling 25 fits\n",
      "[CV 1/5] END colsample_bytree=0.7, gamma=0.0, learning_rate=0.05, max_depth=5, min_child_weight=3;, score=0.956 total time=22.0min\n",
      "[CV 3/5] END colsample_bytree=0.3, gamma=0.1, learning_rate=0.05, max_depth=3, min_child_weight=5;, score=0.952 total time= 6.1min\n",
      "[CV 1/5] END colsample_bytree=0.3, gamma=0.1, learning_rate=0.2, max_depth=3, min_child_weight=3;, score=0.958 total time= 6.0min\n",
      "[CV 2/5] END colsample_bytree=0.3, gamma=0.1, learning_rate=0.2, max_depth=3, min_child_weight=3;, score=0.958 total time= 6.0min\n",
      "[CV 5/5] END colsample_bytree=0.3, gamma=0.1, learning_rate=0.2, max_depth=3, min_child_weight=3;, score=0.957 total time= 6.0min\n",
      "[CV 4/5] END colsample_bytree=0.5, gamma=0.3, learning_rate=0.2, max_depth=6, min_child_weight=1;, score=0.959 total time=21.1min\n",
      "[CV 3/5] END colsample_bytree=0.3, gamma=0.2, learning_rate=0.25, max_depth=6, min_child_weight=5;, score=0.959 total time=15.0min\n",
      "[CV 3/5] END colsample_bytree=0.7, gamma=0.0, learning_rate=0.05, max_depth=5, min_child_weight=3;, score=0.955 total time=22.0min\n",
      "[CV 2/5] END colsample_bytree=0.3, gamma=0.1, learning_rate=0.05, max_depth=3, min_child_weight=5;, score=0.952 total time= 6.0min\n",
      "[CV 5/5] END colsample_bytree=0.3, gamma=0.1, learning_rate=0.05, max_depth=3, min_child_weight=5;, score=0.951 total time= 6.1min\n",
      "[CV 4/5] END colsample_bytree=0.3, gamma=0.1, learning_rate=0.2, max_depth=3, min_child_weight=3;, score=0.958 total time= 6.1min\n",
      "[CV 2/5] END colsample_bytree=0.5, gamma=0.3, learning_rate=0.2, max_depth=6, min_child_weight=1;, score=0.959 total time=19.6min\n",
      "[CV 5/5] END colsample_bytree=0.5, gamma=0.3, learning_rate=0.2, max_depth=6, min_child_weight=1;, score=0.958 total time=23.4min\n",
      "[CV 2/5] END colsample_bytree=0.7, gamma=0.0, learning_rate=0.05, max_depth=5, min_child_weight=3;, score=0.955 total time=22.0min\n",
      "[CV 1/5] END colsample_bytree=0.3, gamma=0.1, learning_rate=0.05, max_depth=3, min_child_weight=5;, score=0.953 total time= 6.0min\n",
      "[CV 4/5] END colsample_bytree=0.3, gamma=0.1, learning_rate=0.05, max_depth=3, min_child_weight=5;, score=0.952 total time= 6.0min\n",
      "[CV 3/5] END colsample_bytree=0.3, gamma=0.1, learning_rate=0.2, max_depth=3, min_child_weight=3;, score=0.957 total time= 6.1min\n",
      "[CV 1/5] END colsample_bytree=0.5, gamma=0.3, learning_rate=0.2, max_depth=6, min_child_weight=1;, score=0.960 total time=19.8min\n",
      "[CV 1/5] END colsample_bytree=0.3, gamma=0.2, learning_rate=0.25, max_depth=6, min_child_weight=5;, score=0.959 total time=14.9min\n",
      "[CV 4/5] END colsample_bytree=0.3, gamma=0.2, learning_rate=0.25, max_depth=6, min_child_weight=5;, score=0.959 total time=11.6min\n",
      "[CV 4/5] END colsample_bytree=0.7, gamma=0.0, learning_rate=0.05, max_depth=5, min_child_weight=3;, score=0.955 total time=21.9min\n",
      "[CV 5/5] END colsample_bytree=0.7, gamma=0.0, learning_rate=0.05, max_depth=5, min_child_weight=3;, score=0.954 total time=21.7min\n",
      "[CV 3/5] END colsample_bytree=0.5, gamma=0.3, learning_rate=0.2, max_depth=6, min_child_weight=1;, score=0.959 total time=20.6min\n",
      "[CV 2/5] END colsample_bytree=0.3, gamma=0.2, learning_rate=0.25, max_depth=6, min_child_weight=5;, score=0.959 total time=14.8min\n",
      "[CV 5/5] END colsample_bytree=0.3, gamma=0.2, learning_rate=0.25, max_depth=6, min_child_weight=5;, score=0.958 total time= 9.2min\n",
      "Total Time of Model Training in Minutes: 339221.0059976578\n"
     ]
    }
   ],
   "source": [
    "# FITTING THE MODEL\n",
    "enter_time = time.time()\n",
    "rs_model.fit(x_train,y_train)\n",
    "exit_time = time.time()\n",
    "\n",
    "print(\"Total Time of Model Training in Minutes:\", (exit_time-enter_time)*60)"
   ]
  },
  {
   "cell_type": "code",
   "execution_count": 18,
   "metadata": {
    "pycharm": {
     "name": "#%%\n"
    }
   },
   "outputs": [
    {
     "data": {
      "text/html": [
       "<style>#sk-container-id-1 {color: black;background-color: white;}#sk-container-id-1 pre{padding: 0;}#sk-container-id-1 div.sk-toggleable {background-color: white;}#sk-container-id-1 label.sk-toggleable__label {cursor: pointer;display: block;width: 100%;margin-bottom: 0;padding: 0.3em;box-sizing: border-box;text-align: center;}#sk-container-id-1 label.sk-toggleable__label-arrow:before {content: \"▸\";float: left;margin-right: 0.25em;color: #696969;}#sk-container-id-1 label.sk-toggleable__label-arrow:hover:before {color: black;}#sk-container-id-1 div.sk-estimator:hover label.sk-toggleable__label-arrow:before {color: black;}#sk-container-id-1 div.sk-toggleable__content {max-height: 0;max-width: 0;overflow: hidden;text-align: left;background-color: #f0f8ff;}#sk-container-id-1 div.sk-toggleable__content pre {margin: 0.2em;color: black;border-radius: 0.25em;background-color: #f0f8ff;}#sk-container-id-1 input.sk-toggleable__control:checked~div.sk-toggleable__content {max-height: 200px;max-width: 100%;overflow: auto;}#sk-container-id-1 input.sk-toggleable__control:checked~label.sk-toggleable__label-arrow:before {content: \"▾\";}#sk-container-id-1 div.sk-estimator input.sk-toggleable__control:checked~label.sk-toggleable__label {background-color: #d4ebff;}#sk-container-id-1 div.sk-label input.sk-toggleable__control:checked~label.sk-toggleable__label {background-color: #d4ebff;}#sk-container-id-1 input.sk-hidden--visually {border: 0;clip: rect(1px 1px 1px 1px);clip: rect(1px, 1px, 1px, 1px);height: 1px;margin: -1px;overflow: hidden;padding: 0;position: absolute;width: 1px;}#sk-container-id-1 div.sk-estimator {font-family: monospace;background-color: #f0f8ff;border: 1px dotted black;border-radius: 0.25em;box-sizing: border-box;margin-bottom: 0.5em;}#sk-container-id-1 div.sk-estimator:hover {background-color: #d4ebff;}#sk-container-id-1 div.sk-parallel-item::after {content: \"\";width: 100%;border-bottom: 1px solid gray;flex-grow: 1;}#sk-container-id-1 div.sk-label:hover label.sk-toggleable__label {background-color: #d4ebff;}#sk-container-id-1 div.sk-serial::before {content: \"\";position: absolute;border-left: 1px solid gray;box-sizing: border-box;top: 0;bottom: 0;left: 50%;z-index: 0;}#sk-container-id-1 div.sk-serial {display: flex;flex-direction: column;align-items: center;background-color: white;padding-right: 0.2em;padding-left: 0.2em;position: relative;}#sk-container-id-1 div.sk-item {position: relative;z-index: 1;}#sk-container-id-1 div.sk-parallel {display: flex;align-items: stretch;justify-content: center;background-color: white;position: relative;}#sk-container-id-1 div.sk-item::before, #sk-container-id-1 div.sk-parallel-item::before {content: \"\";position: absolute;border-left: 1px solid gray;box-sizing: border-box;top: 0;bottom: 0;left: 50%;z-index: -1;}#sk-container-id-1 div.sk-parallel-item {display: flex;flex-direction: column;z-index: 1;position: relative;background-color: white;}#sk-container-id-1 div.sk-parallel-item:first-child::after {align-self: flex-end;width: 50%;}#sk-container-id-1 div.sk-parallel-item:last-child::after {align-self: flex-start;width: 50%;}#sk-container-id-1 div.sk-parallel-item:only-child::after {width: 0;}#sk-container-id-1 div.sk-dashed-wrapped {border: 1px dashed gray;margin: 0 0.4em 0.5em 0.4em;box-sizing: border-box;padding-bottom: 0.4em;background-color: white;}#sk-container-id-1 div.sk-label label {font-family: monospace;font-weight: bold;display: inline-block;line-height: 1.2em;}#sk-container-id-1 div.sk-label-container {text-align: center;}#sk-container-id-1 div.sk-container {/* jupyter's `normalize.less` sets `[hidden] { display: none; }` but bootstrap.min.css set `[hidden] { display: none !important; }` so we also need the `!important` here to be able to override the default hidden behavior on the sphinx rendered scikit-learn.org. See: https://github.com/scikit-learn/scikit-learn/issues/21755 */display: inline-block !important;position: relative;}#sk-container-id-1 div.sk-text-repr-fallback {display: none;}</style><div id=\"sk-container-id-1\" class=\"sk-top-container\"><div class=\"sk-text-repr-fallback\"><pre>XGBClassifier(base_score=0.5, booster=&#x27;gbtree&#x27;, callbacks=None,\n",
       "              colsample_bylevel=1, colsample_bynode=1, colsample_bytree=0.5,\n",
       "              early_stopping_rounds=None, enable_categorical=False,\n",
       "              eval_metric=None, gamma=0.3, gpu_id=-1, grow_policy=&#x27;depthwise&#x27;,\n",
       "              importance_type=None, interaction_constraints=&#x27;&#x27;,\n",
       "              learning_rate=0.2, max_bin=256, max_cat_to_onehot=4,\n",
       "              max_delta_step=0, max_depth=6, max_leaves=0, min_child_weight=1,\n",
       "              missing=nan, monotone_constraints=&#x27;()&#x27;, n_estimators=100,\n",
       "              n_jobs=0, num_parallel_tree=1, predictor=&#x27;auto&#x27;, random_state=0,\n",
       "              reg_alpha=0, reg_lambda=1, ...)</pre><b>In a Jupyter environment, please rerun this cell to show the HTML representation or trust the notebook. <br />On GitHub, the HTML representation is unable to render, please try loading this page with nbviewer.org.</b></div><div class=\"sk-container\" hidden><div class=\"sk-item\"><div class=\"sk-estimator sk-toggleable\"><input class=\"sk-toggleable__control sk-hidden--visually\" id=\"sk-estimator-id-1\" type=\"checkbox\" checked><label for=\"sk-estimator-id-1\" class=\"sk-toggleable__label sk-toggleable__label-arrow\">XGBClassifier</label><div class=\"sk-toggleable__content\"><pre>XGBClassifier(base_score=0.5, booster=&#x27;gbtree&#x27;, callbacks=None,\n",
       "              colsample_bylevel=1, colsample_bynode=1, colsample_bytree=0.5,\n",
       "              early_stopping_rounds=None, enable_categorical=False,\n",
       "              eval_metric=None, gamma=0.3, gpu_id=-1, grow_policy=&#x27;depthwise&#x27;,\n",
       "              importance_type=None, interaction_constraints=&#x27;&#x27;,\n",
       "              learning_rate=0.2, max_bin=256, max_cat_to_onehot=4,\n",
       "              max_delta_step=0, max_depth=6, max_leaves=0, min_child_weight=1,\n",
       "              missing=nan, monotone_constraints=&#x27;()&#x27;, n_estimators=100,\n",
       "              n_jobs=0, num_parallel_tree=1, predictor=&#x27;auto&#x27;, random_state=0,\n",
       "              reg_alpha=0, reg_lambda=1, ...)</pre></div></div></div></div></div>"
      ],
      "text/plain": [
       "XGBClassifier(base_score=0.5, booster='gbtree', callbacks=None,\n",
       "              colsample_bylevel=1, colsample_bynode=1, colsample_bytree=0.5,\n",
       "              early_stopping_rounds=None, enable_categorical=False,\n",
       "              eval_metric=None, gamma=0.3, gpu_id=-1, grow_policy='depthwise',\n",
       "              importance_type=None, interaction_constraints='',\n",
       "              learning_rate=0.2, max_bin=256, max_cat_to_onehot=4,\n",
       "              max_delta_step=0, max_depth=6, max_leaves=0, min_child_weight=1,\n",
       "              missing=nan, monotone_constraints='()', n_estimators=100,\n",
       "              n_jobs=0, num_parallel_tree=1, predictor='auto', random_state=0,\n",
       "              reg_alpha=0, reg_lambda=1, ...)"
      ]
     },
     "execution_count": 18,
     "metadata": {},
     "output_type": "execute_result"
    }
   ],
   "source": [
    "rs_model.best_estimator_"
   ]
  },
  {
   "cell_type": "code",
   "execution_count": 7,
   "metadata": {
    "pycharm": {
     "name": "#%%\n"
    }
   },
   "outputs": [
    {
     "name": "stdout",
     "output_type": "stream",
     "text": [
      "[Fold 1/10]\n",
      "-> folds=1, accuracy=0.900\n",
      "[Fold 2/10]\n",
      "-> folds=2, accuracy=0.900\n",
      "[Fold 3/10]\n",
      "-> folds=3, accuracy=0.899\n",
      "[Fold 4/10]\n",
      "-> folds=4, accuracy=0.900\n",
      "[Fold 5/10]\n",
      "-> folds=5, accuracy=0.900\n",
      "[Fold 6/10]\n",
      "-> folds=6, accuracy=0.900\n",
      "[Fold 7/10]\n",
      "-> folds=7, accuracy=0.900\n",
      "[Fold 8/10]\n",
      "-> folds=8, accuracy=0.901\n",
      "[Fold 9/10]\n",
      "-> folds=9, accuracy=0.900\n",
      "[Fold 10/10]\n",
      "-> folds=10, accuracy=0.902\n"
     ]
    }
   ],
   "source": [
    "# Building final classifier model\n",
    "xgb_cal = xgb.XGBClassifier(learning_rate=0.2, min_child_weight=1, max_depth=6, gamma=0.3, colsample_bytree=0.5)\n",
    "\n",
    "kfold = 10\n",
    "skf = StratifiedKFold(n_splits=kfold, shuffle=True, random_state=0)\n",
    "lst_accu_stratified_test = []\n",
    "lst_accu_stratified_train = []\n",
    "for i, (train_index, test_index) in enumerate(skf.split(x_train, y_train), start=1):\n",
    "    print('[Fold %d/%d]' % (i, kfold))\n",
    "    x_train_split, x_test_split  = x_train[train_index], x_train[test_index]\n",
    "    y_train_split, y_test_split  = y_train[train_index], y_train[test_index]\n",
    "    xgb_cal.fit(x_train_split, y_train_split)\n",
    "    y_predict_test = xgb_cal.predict(x_test_split)\n",
    "    lst_accu_stratified_test.append(accuracy_score(y_test_split, y_predict_test))\n",
    "    y_predict_train = xgb_cal.predict(x_train_split)\n",
    "    lst_accu_stratified_train.append(accuracy_score(y_train_split,y_predict_train))\n",
    "    print('-> folds=%d, accuracy=%.3f' % (i, lst_accu_stratified_test[i-1]))\n"
   ]
  },
  {
   "cell_type": "code",
   "execution_count": 8,
   "metadata": {
    "pycharm": {
     "name": "#%%\n"
    }
   },
   "outputs": [
    {
     "name": "stdout",
     "output_type": "stream",
     "text": [
      "[0.9003965832824893, 0.9001133095092827, 0.8991545367384294, 0.9003726220827614, 0.8998496437209911, 0.899675317600401, 0.9003290405526138, 0.9008738096794578, 0.9004815759081302, 0.9023120001743261]\n",
      "[0.9119996319799719, 0.9119366811857024, 0.9122611198946301, 0.9123751277171676, 0.9122734382187874, 0.9121233251497499, 0.9113485480192338, 0.9119756332592452, 0.9117916236907477, 0.91153982112333]\n",
      "Average Accuracy Score on test set: 0.9003558439248884\n",
      "Average Accuracy Score on train set: 0.9119624950238567\n"
     ]
    }
   ],
   "source": [
    "print(lst_accu_stratified_test)\n",
    "print(lst_accu_stratified_train)\n",
    "\n",
    "# Calculating Accuracy\n",
    "print(\"Average Accuracy Score on test set:\", np.mean(lst_accu_stratified_test))\n",
    "print(\"Average Accuracy Score on train set:\", np.mean(lst_accu_stratified_train))"
   ]
  },
  {
   "cell_type": "code",
   "execution_count": 9,
   "metadata": {
    "pycharm": {
     "name": "#%%\n"
    }
   },
   "outputs": [
    {
     "data": {
      "text/plain": "<Figure size 432x288 with 1 Axes>",
      "image/png": "[encoded data removed]"
     },
     "metadata": {
      "needs_background": "light"
     },
     "output_type": "display_data"
    }
   ],
   "source": [
    "# plot of train and test scores\n",
    "values = [i for i in range(kfold)]\n",
    "plt.plot(values, lst_accu_stratified_train, '-o', label='Train')\n",
    "plt.plot(values, lst_accu_stratified_test, '-o', label='Test')\n",
    "plt.legend()\n",
    "plt.show()"
   ]
  },
  {
   "cell_type": "code",
   "execution_count": 10,
   "metadata": {
    "pycharm": {
     "name": "#%%\n"
    }
   },
   "outputs": [],
   "source": [
    "# SET TEST DATA PATH\n",
    "path = f\"{os.getcwd()}/dataset/test.parquet\"\n",
    "# LOAD PARQUET DATASET WITH FEATURE ENGINEERING\n",
    "df_test = pd.read_parquet(path=path)"
   ]
  },
  {
   "cell_type": "code",
   "execution_count": 13,
   "outputs": [
    {
     "data": {
      "text/plain": "(924621, 188)"
     },
     "execution_count": 13,
     "metadata": {},
     "output_type": "execute_result"
    }
   ],
   "source": [
    "# S_2 is not relevant so lets drop it\n",
    "df_test.drop(['S_2'],axis=1,inplace=True)\n",
    "\n",
    "# There are multiple transactions. Let's take only the latest transaction from each customer.\n",
    "df_test= df_test.groupby('customer_ID').tail(1)\n",
    "df_test= df_test.set_index(['customer_ID'])\n",
    "\n",
    "df_test.shape"
   ],
   "metadata": {
    "collapsed": false,
    "pycharm": {
     "name": "#%%\n"
    }
   }
  },
  {
   "cell_type": "code",
   "execution_count": 14,
   "outputs": [],
   "source": [
    "y_test_predict=xgb_cal.predict_proba(df_test)"
   ],
   "metadata": {
    "collapsed": false,
    "pycharm": {
     "name": "#%%\n"
    }
   }
  },
  {
   "cell_type": "code",
   "execution_count": 15,
   "outputs": [],
   "source": [
    "y_predict_final=y_test_predict[:,1]\n",
    "submission = pd.DataFrame({\"customer_ID\":df_test.index,\"prediction\":y_predict_final})"
   ],
   "metadata": {
    "collapsed": false,
    "pycharm": {
     "name": "#%%\n"
    }
   }
  },
  {
   "cell_type": "code",
   "execution_count": 16,
   "outputs": [],
   "source": [
    "submission.to_csv('amex-submission.csv', index=False)"
   ],
   "metadata": {
    "collapsed": false,
    "pycharm": {
     "name": "#%%\n"
    }
   }
  },
  {
   "cell_type": "code",
   "execution_count": 27,
   "outputs": [
    {
     "data": {
      "text/plain": "<Figure size 432x288 with 1 Axes>",
      "image/png": "[encoded data removed]"
     },
     "metadata": {
      "needs_background": "light"
     },
     "output_type": "display_data"
    }
   ],
   "source": [
    "# PLOT PREDICTIONS\n",
    "plt.hist(submission.prediction, bins=100)\n",
    "plt.title('Test Predictions')\n",
    "plt.show()"
   ],
   "metadata": {
    "collapsed": false,
    "pycharm": {
     "name": "#%%\n"
    }
   }
  },
  {
   "cell_type": "code",
   "execution_count": 32,
   "outputs": [
    {
     "name": "stdout",
     "output_type": "stream",
     "text": [
      "Amex Metric Score on test data:  0.5845645208501955\n"
     ]
    }
   ],
   "source": [
    "# https://www.kaggle.com/kyakovlev\n",
    "# https://www.kaggle.com/competitions/amex-default-prediction/discussion/327534\n",
    "def amex_metric_mod(y_true, y_pred):\n",
    "    labels = np.transpose(np.array([y_true, y_pred]))\n",
    "    labels = labels[labels[:, 1].argsort()[::-1]]\n",
    "    weights = np.where(labels[:, 0] == 0, 20, 1)\n",
    "    cut_vals = labels[np.cumsum(weights) <= int(0.04 * np.sum(weights))]\n",
    "    top_four = np.sum(cut_vals[:, 0]) / np.sum(labels[:, 0])\n",
    "\n",
    "    gini = [0, 0]\n",
    "    for i in [1, 0]:\n",
    "        labels = np.transpose(np.array([y_true, y_pred]))\n",
    "        labels = labels[labels[:, i].argsort()[::-1]]\n",
    "        weight = np.where(labels[:, 0] == 0, 20, 1)\n",
    "        weight_random = np.cumsum(weight / np.sum(weight))\n",
    "        total_pos = np.sum(labels[:, 0] * weight)\n",
    "        cum_pos_found = np.cumsum(labels[:, 0] * weight)\n",
    "        lorentz = cum_pos_found / total_pos\n",
    "        gini[i] = np.sum((lorentz - weight_random) * weight)\n",
    "\n",
    "    return 0.5 * (gini[1] / gini[0] + top_four)\n",
    "\n",
    "amex_metric_score_test = amex_metric_mod(y_test_split, y_predict_test)\n",
    "print(\"Amex Metric Score on test data: \", amex_metric_score_test)\n"
   ],
   "metadata": {
    "collapsed": false,
    "pycharm": {
     "name": "#%%\n"
    }
   }
  },
  {
   "cell_type": "code",
   "execution_count": 30,
   "outputs": [],
   "source": [],
   "metadata": {
    "collapsed": false,
    "pycharm": {
     "name": "#%%\n"
    }
   }
  }
 ],
 "metadata": {
  "kernelspec": {
   "display_name": "Python 3 (ipykernel)",
   "language": "python",
   "name": "python3"
  },
  "language_info": {
   "codemirror_mode": {
    "name": "ipython",
    "version": 3
   },
   "file_extension": ".py",
   "mimetype": "text/x-python",
   "name": "python",
   "nbconvert_exporter": "python",
   "pygments_lexer": "ipython3",
   "version": "3.8.10"
  }
 },
 "nbformat": 4,
 "nbformat_minor": 1
}